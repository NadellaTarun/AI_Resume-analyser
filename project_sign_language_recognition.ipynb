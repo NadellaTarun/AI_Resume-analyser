{
  "cells": [
    {
      "cell_type": "markdown",
      "metadata": {
        "id": "view-in-github",
        "colab_type": "text"
      },
      "source": [
        "<a href=\"https://colab.research.google.com/github/NadellaTarun/AI_Resume-analyser/blob/main/project_sign_language_recognition.ipynb\" target=\"_parent\"><img src=\"https://colab.research.google.com/assets/colab-badge.svg\" alt=\"Open In Colab\"/></a>"
      ]
    },
    {
      "cell_type": "code",
      "execution_count": null,
      "metadata": {
        "id": "9JMoqLwtrO_C"
      },
      "outputs": [],
      "source": [
        "from google.colab import files\n",
        "uploaded = files.upload()  # Re-upload the ZIP file\n"
      ]
    },
    {
      "cell_type": "code",
      "execution_count": null,
      "metadata": {
        "id": "bymghz-HrYs_"
      },
      "outputs": [],
      "source": [
        "import zipfile\n",
        "import os\n",
        "\n",
        "# Extract the uploaded ZIP file\n",
        "for filename in uploaded.keys():\n",
        "    if filename.endswith('.zip'):\n",
        "        with zipfile.ZipFile(filename, 'r') as zip_ref:\n",
        "            zip_ref.extractall('/content/dataset')  # Extract to this folder\n",
        "        os.remove(filename)  # Remove ZIP file after extraction\n"
      ]
    },
    {
      "cell_type": "code",
      "execution_count": null,
      "metadata": {
        "colab": {
          "base_uri": "https://localhost:8080/"
        },
        "id": "P6O8tXG6rbAX",
        "outputId": "a18779e0-a07d-4d8c-fd26-05c2128ba8af"
      },
      "outputs": [
        {
          "output_type": "stream",
          "name": "stdout",
          "text": [
            "Collecting gtts\n",
            "  Downloading gTTS-2.5.4-py3-none-any.whl.metadata (4.1 kB)\n",
            "Requirement already satisfied: requests<3,>=2.27 in /usr/local/lib/python3.11/dist-packages (from gtts) (2.32.3)\n",
            "Requirement already satisfied: click<8.2,>=7.1 in /usr/local/lib/python3.11/dist-packages (from gtts) (8.1.8)\n",
            "Requirement already satisfied: charset-normalizer<4,>=2 in /usr/local/lib/python3.11/dist-packages (from requests<3,>=2.27->gtts) (3.4.1)\n",
            "Requirement already satisfied: idna<4,>=2.5 in /usr/local/lib/python3.11/dist-packages (from requests<3,>=2.27->gtts) (3.10)\n",
            "Requirement already satisfied: urllib3<3,>=1.21.1 in /usr/local/lib/python3.11/dist-packages (from requests<3,>=2.27->gtts) (2.3.0)\n",
            "Requirement already satisfied: certifi>=2017.4.17 in /usr/local/lib/python3.11/dist-packages (from requests<3,>=2.27->gtts) (2025.1.31)\n",
            "Downloading gTTS-2.5.4-py3-none-any.whl (29 kB)\n",
            "Installing collected packages: gtts\n",
            "Successfully installed gtts-2.5.4\n"
          ]
        }
      ],
      "source": [
        "!pip install gtts\n"
      ]
    },
    {
      "cell_type": "code",
      "execution_count": null,
      "metadata": {
        "colab": {
          "base_uri": "https://localhost:8080/"
        },
        "id": "MXwxGsxLrgoZ",
        "outputId": "74b63da8-816b-4d7d-e364-b5f18d366a42"
      },
      "outputs": [
        {
          "output_type": "stream",
          "name": "stdout",
          "text": [
            "Found 21974 images belonging to 24 classes.\n",
            "Found 5481 images belonging to 24 classes.\n"
          ]
        }
      ],
      "source": [
        "import os\n",
        "import numpy as np\n",
        "import tensorflow as tf\n",
        "from tensorflow.keras.preprocessing.image import ImageDataGenerator\n",
        "\n",
        "# Define paths\n",
        "dataset_path = '/content/dataset/'  # Update path based on dataset location\n",
        "train_dir = os.path.join(dataset_path, 'Train')\n",
        "\n",
        "# Define image parameters\n",
        "IMG_SIZE = 64\n",
        "BATCH_SIZE = 32\n",
        "\n",
        "# Data Augmentation and Splitting\n",
        "datagen = ImageDataGenerator(rescale=1./255, validation_split=0.2)\n",
        "\n",
        "# Load training and validation data\n",
        "train_data = datagen.flow_from_directory(\n",
        "    train_dir,\n",
        "    target_size=(IMG_SIZE, IMG_SIZE),\n",
        "    batch_size=BATCH_SIZE,\n",
        "    class_mode='categorical',\n",
        "    subset='training'\n",
        ")\n",
        "\n",
        "val_data = datagen.flow_from_directory(\n",
        "    train_dir,\n",
        "    target_size=(IMG_SIZE, IMG_SIZE),\n",
        "    batch_size=BATCH_SIZE,\n",
        "    class_mode='categorical',\n",
        "    subset='validation'\n",
        ")\n"
      ]
    },
    {
      "cell_type": "code",
      "execution_count": null,
      "metadata": {
        "colab": {
          "base_uri": "https://localhost:8080/"
        },
        "id": "JH6U8gEgrmMM",
        "outputId": "cb939348-b307-49cc-bb3b-73d6f07ecd23"
      },
      "outputs": [
        {
          "output_type": "stream",
          "name": "stderr",
          "text": [
            "/usr/local/lib/python3.11/dist-packages/keras/src/layers/convolutional/base_conv.py:107: UserWarning: Do not pass an `input_shape`/`input_dim` argument to a layer. When using Sequential models, prefer using an `Input(shape)` object as the first layer in the model instead.\n",
            "  super().__init__(activity_regularizer=activity_regularizer, **kwargs)\n"
          ]
        }
      ],
      "source": [
        "from tensorflow.keras.models import Sequential\n",
        "from tensorflow.keras.layers import Conv2D, MaxPooling2D, Flatten, Dense, Dropout\n",
        "\n",
        "# Define CNN model\n",
        "model = Sequential([\n",
        "    Conv2D(32, (3,3), activation='relu', input_shape=(IMG_SIZE, IMG_SIZE, 3)),\n",
        "    MaxPooling2D(2,2),\n",
        "    Conv2D(64, (3,3), activation='relu'),\n",
        "    MaxPooling2D(2,2),\n",
        "    Flatten(),\n",
        "    Dense(128, activation='relu'),\n",
        "    Dropout(0.5),\n",
        "    Dense(len(train_data.class_indices), activation='softmax')\n",
        "])\n"
      ]
    },
    {
      "cell_type": "code",
      "execution_count": null,
      "metadata": {
        "colab": {
          "base_uri": "https://localhost:8080/",
          "height": 385
        },
        "id": "lxEckWLgrm41",
        "outputId": "898ec3c9-bab5-4bff-e6df-1cc769528a97"
      },
      "outputs": [
        {
          "output_type": "display_data",
          "data": {
            "text/plain": [
              "\u001b[1mModel: \"sequential\"\u001b[0m\n"
            ],
            "text/html": [
              "<pre style=\"white-space:pre;overflow-x:auto;line-height:normal;font-family:Menlo,'DejaVu Sans Mono',consolas,'Courier New',monospace\"><span style=\"font-weight: bold\">Model: \"sequential\"</span>\n",
              "</pre>\n"
            ]
          },
          "metadata": {}
        },
        {
          "output_type": "display_data",
          "data": {
            "text/plain": [
              "┏━━━━━━━━━━━━━━━━━━━━━━━━━━━━━━━━━┳━━━━━━━━━━━━━━━━━━━━━━━━┳━━━━━━━━━━━━━━━┓\n",
              "┃\u001b[1m \u001b[0m\u001b[1mLayer (type)                   \u001b[0m\u001b[1m \u001b[0m┃\u001b[1m \u001b[0m\u001b[1mOutput Shape          \u001b[0m\u001b[1m \u001b[0m┃\u001b[1m \u001b[0m\u001b[1m      Param #\u001b[0m\u001b[1m \u001b[0m┃\n",
              "┡━━━━━━━━━━━━━━━━━━━━━━━━━━━━━━━━━╇━━━━━━━━━━━━━━━━━━━━━━━━╇━━━━━━━━━━━━━━━┩\n",
              "│ conv2d (\u001b[38;5;33mConv2D\u001b[0m)                 │ (\u001b[38;5;45mNone\u001b[0m, \u001b[38;5;34m62\u001b[0m, \u001b[38;5;34m62\u001b[0m, \u001b[38;5;34m32\u001b[0m)     │           \u001b[38;5;34m896\u001b[0m │\n",
              "├─────────────────────────────────┼────────────────────────┼───────────────┤\n",
              "│ max_pooling2d (\u001b[38;5;33mMaxPooling2D\u001b[0m)    │ (\u001b[38;5;45mNone\u001b[0m, \u001b[38;5;34m31\u001b[0m, \u001b[38;5;34m31\u001b[0m, \u001b[38;5;34m32\u001b[0m)     │             \u001b[38;5;34m0\u001b[0m │\n",
              "├─────────────────────────────────┼────────────────────────┼───────────────┤\n",
              "│ conv2d_1 (\u001b[38;5;33mConv2D\u001b[0m)               │ (\u001b[38;5;45mNone\u001b[0m, \u001b[38;5;34m29\u001b[0m, \u001b[38;5;34m29\u001b[0m, \u001b[38;5;34m64\u001b[0m)     │        \u001b[38;5;34m18,496\u001b[0m │\n",
              "├─────────────────────────────────┼────────────────────────┼───────────────┤\n",
              "│ max_pooling2d_1 (\u001b[38;5;33mMaxPooling2D\u001b[0m)  │ (\u001b[38;5;45mNone\u001b[0m, \u001b[38;5;34m14\u001b[0m, \u001b[38;5;34m14\u001b[0m, \u001b[38;5;34m64\u001b[0m)     │             \u001b[38;5;34m0\u001b[0m │\n",
              "├─────────────────────────────────┼────────────────────────┼───────────────┤\n",
              "│ flatten (\u001b[38;5;33mFlatten\u001b[0m)               │ (\u001b[38;5;45mNone\u001b[0m, \u001b[38;5;34m12544\u001b[0m)          │             \u001b[38;5;34m0\u001b[0m │\n",
              "├─────────────────────────────────┼────────────────────────┼───────────────┤\n",
              "│ dense (\u001b[38;5;33mDense\u001b[0m)                   │ (\u001b[38;5;45mNone\u001b[0m, \u001b[38;5;34m128\u001b[0m)            │     \u001b[38;5;34m1,605,760\u001b[0m │\n",
              "├─────────────────────────────────┼────────────────────────┼───────────────┤\n",
              "│ dropout (\u001b[38;5;33mDropout\u001b[0m)               │ (\u001b[38;5;45mNone\u001b[0m, \u001b[38;5;34m128\u001b[0m)            │             \u001b[38;5;34m0\u001b[0m │\n",
              "├─────────────────────────────────┼────────────────────────┼───────────────┤\n",
              "│ dense_1 (\u001b[38;5;33mDense\u001b[0m)                 │ (\u001b[38;5;45mNone\u001b[0m, \u001b[38;5;34m24\u001b[0m)             │         \u001b[38;5;34m3,096\u001b[0m │\n",
              "└─────────────────────────────────┴────────────────────────┴───────────────┘\n"
            ],
            "text/html": [
              "<pre style=\"white-space:pre;overflow-x:auto;line-height:normal;font-family:Menlo,'DejaVu Sans Mono',consolas,'Courier New',monospace\">┏━━━━━━━━━━━━━━━━━━━━━━━━━━━━━━━━━┳━━━━━━━━━━━━━━━━━━━━━━━━┳━━━━━━━━━━━━━━━┓\n",
              "┃<span style=\"font-weight: bold\"> Layer (type)                    </span>┃<span style=\"font-weight: bold\"> Output Shape           </span>┃<span style=\"font-weight: bold\">       Param # </span>┃\n",
              "┡━━━━━━━━━━━━━━━━━━━━━━━━━━━━━━━━━╇━━━━━━━━━━━━━━━━━━━━━━━━╇━━━━━━━━━━━━━━━┩\n",
              "│ conv2d (<span style=\"color: #0087ff; text-decoration-color: #0087ff\">Conv2D</span>)                 │ (<span style=\"color: #00d7ff; text-decoration-color: #00d7ff\">None</span>, <span style=\"color: #00af00; text-decoration-color: #00af00\">62</span>, <span style=\"color: #00af00; text-decoration-color: #00af00\">62</span>, <span style=\"color: #00af00; text-decoration-color: #00af00\">32</span>)     │           <span style=\"color: #00af00; text-decoration-color: #00af00\">896</span> │\n",
              "├─────────────────────────────────┼────────────────────────┼───────────────┤\n",
              "│ max_pooling2d (<span style=\"color: #0087ff; text-decoration-color: #0087ff\">MaxPooling2D</span>)    │ (<span style=\"color: #00d7ff; text-decoration-color: #00d7ff\">None</span>, <span style=\"color: #00af00; text-decoration-color: #00af00\">31</span>, <span style=\"color: #00af00; text-decoration-color: #00af00\">31</span>, <span style=\"color: #00af00; text-decoration-color: #00af00\">32</span>)     │             <span style=\"color: #00af00; text-decoration-color: #00af00\">0</span> │\n",
              "├─────────────────────────────────┼────────────────────────┼───────────────┤\n",
              "│ conv2d_1 (<span style=\"color: #0087ff; text-decoration-color: #0087ff\">Conv2D</span>)               │ (<span style=\"color: #00d7ff; text-decoration-color: #00d7ff\">None</span>, <span style=\"color: #00af00; text-decoration-color: #00af00\">29</span>, <span style=\"color: #00af00; text-decoration-color: #00af00\">29</span>, <span style=\"color: #00af00; text-decoration-color: #00af00\">64</span>)     │        <span style=\"color: #00af00; text-decoration-color: #00af00\">18,496</span> │\n",
              "├─────────────────────────────────┼────────────────────────┼───────────────┤\n",
              "│ max_pooling2d_1 (<span style=\"color: #0087ff; text-decoration-color: #0087ff\">MaxPooling2D</span>)  │ (<span style=\"color: #00d7ff; text-decoration-color: #00d7ff\">None</span>, <span style=\"color: #00af00; text-decoration-color: #00af00\">14</span>, <span style=\"color: #00af00; text-decoration-color: #00af00\">14</span>, <span style=\"color: #00af00; text-decoration-color: #00af00\">64</span>)     │             <span style=\"color: #00af00; text-decoration-color: #00af00\">0</span> │\n",
              "├─────────────────────────────────┼────────────────────────┼───────────────┤\n",
              "│ flatten (<span style=\"color: #0087ff; text-decoration-color: #0087ff\">Flatten</span>)               │ (<span style=\"color: #00d7ff; text-decoration-color: #00d7ff\">None</span>, <span style=\"color: #00af00; text-decoration-color: #00af00\">12544</span>)          │             <span style=\"color: #00af00; text-decoration-color: #00af00\">0</span> │\n",
              "├─────────────────────────────────┼────────────────────────┼───────────────┤\n",
              "│ dense (<span style=\"color: #0087ff; text-decoration-color: #0087ff\">Dense</span>)                   │ (<span style=\"color: #00d7ff; text-decoration-color: #00d7ff\">None</span>, <span style=\"color: #00af00; text-decoration-color: #00af00\">128</span>)            │     <span style=\"color: #00af00; text-decoration-color: #00af00\">1,605,760</span> │\n",
              "├─────────────────────────────────┼────────────────────────┼───────────────┤\n",
              "│ dropout (<span style=\"color: #0087ff; text-decoration-color: #0087ff\">Dropout</span>)               │ (<span style=\"color: #00d7ff; text-decoration-color: #00d7ff\">None</span>, <span style=\"color: #00af00; text-decoration-color: #00af00\">128</span>)            │             <span style=\"color: #00af00; text-decoration-color: #00af00\">0</span> │\n",
              "├─────────────────────────────────┼────────────────────────┼───────────────┤\n",
              "│ dense_1 (<span style=\"color: #0087ff; text-decoration-color: #0087ff\">Dense</span>)                 │ (<span style=\"color: #00d7ff; text-decoration-color: #00d7ff\">None</span>, <span style=\"color: #00af00; text-decoration-color: #00af00\">24</span>)             │         <span style=\"color: #00af00; text-decoration-color: #00af00\">3,096</span> │\n",
              "└─────────────────────────────────┴────────────────────────┴───────────────┘\n",
              "</pre>\n"
            ]
          },
          "metadata": {}
        },
        {
          "output_type": "display_data",
          "data": {
            "text/plain": [
              "\u001b[1m Total params: \u001b[0m\u001b[38;5;34m1,628,248\u001b[0m (6.21 MB)\n"
            ],
            "text/html": [
              "<pre style=\"white-space:pre;overflow-x:auto;line-height:normal;font-family:Menlo,'DejaVu Sans Mono',consolas,'Courier New',monospace\"><span style=\"font-weight: bold\"> Total params: </span><span style=\"color: #00af00; text-decoration-color: #00af00\">1,628,248</span> (6.21 MB)\n",
              "</pre>\n"
            ]
          },
          "metadata": {}
        },
        {
          "output_type": "display_data",
          "data": {
            "text/plain": [
              "\u001b[1m Trainable params: \u001b[0m\u001b[38;5;34m1,628,248\u001b[0m (6.21 MB)\n"
            ],
            "text/html": [
              "<pre style=\"white-space:pre;overflow-x:auto;line-height:normal;font-family:Menlo,'DejaVu Sans Mono',consolas,'Courier New',monospace\"><span style=\"font-weight: bold\"> Trainable params: </span><span style=\"color: #00af00; text-decoration-color: #00af00\">1,628,248</span> (6.21 MB)\n",
              "</pre>\n"
            ]
          },
          "metadata": {}
        },
        {
          "output_type": "display_data",
          "data": {
            "text/plain": [
              "\u001b[1m Non-trainable params: \u001b[0m\u001b[38;5;34m0\u001b[0m (0.00 B)\n"
            ],
            "text/html": [
              "<pre style=\"white-space:pre;overflow-x:auto;line-height:normal;font-family:Menlo,'DejaVu Sans Mono',consolas,'Courier New',monospace\"><span style=\"font-weight: bold\"> Non-trainable params: </span><span style=\"color: #00af00; text-decoration-color: #00af00\">0</span> (0.00 B)\n",
              "</pre>\n"
            ]
          },
          "metadata": {}
        }
      ],
      "source": [
        "model.summary()"
      ]
    },
    {
      "cell_type": "code",
      "execution_count": null,
      "metadata": {
        "colab": {
          "base_uri": "https://localhost:8080/"
        },
        "id": "tiXqrYQJrpfZ",
        "outputId": "514a8738-5039-4401-cb66-dbf8512f89fe"
      },
      "outputs": [
        {
          "output_type": "stream",
          "name": "stdout",
          "text": [
            "Epoch 1/10\n"
          ]
        },
        {
          "output_type": "stream",
          "name": "stderr",
          "text": [
            "/usr/local/lib/python3.11/dist-packages/keras/src/trainers/data_adapters/py_dataset_adapter.py:121: UserWarning: Your `PyDataset` class should call `super().__init__(**kwargs)` in its constructor. `**kwargs` can include `workers`, `use_multiprocessing`, `max_queue_size`. Do not pass these arguments to `fit()`, as they will be ignored.\n",
            "  self._warn_if_super_not_called()\n"
          ]
        },
        {
          "output_type": "stream",
          "name": "stdout",
          "text": [
            "\u001b[1m687/687\u001b[0m \u001b[32m━━━━━━━━━━━━━━━━━━━━\u001b[0m\u001b[37m\u001b[0m \u001b[1m142s\u001b[0m 201ms/step - accuracy: 0.4024 - loss: 2.0094 - val_accuracy: 0.9808 - val_loss: 0.1106\n",
            "Epoch 2/10\n",
            "\u001b[1m687/687\u001b[0m \u001b[32m━━━━━━━━━━━━━━━━━━━━\u001b[0m\u001b[37m\u001b[0m \u001b[1m118s\u001b[0m 172ms/step - accuracy: 0.9104 - loss: 0.2667 - val_accuracy: 0.9987 - val_loss: 0.0150\n",
            "Epoch 3/10\n",
            "\u001b[1m687/687\u001b[0m \u001b[32m━━━━━━━━━━━━━━━━━━━━\u001b[0m\u001b[37m\u001b[0m \u001b[1m118s\u001b[0m 172ms/step - accuracy: 0.9497 - loss: 0.1466 - val_accuracy: 0.9987 - val_loss: 0.0079\n",
            "Epoch 4/10\n",
            "\u001b[1m687/687\u001b[0m \u001b[32m━━━━━━━━━━━━━━━━━━━━\u001b[0m\u001b[37m\u001b[0m \u001b[1m118s\u001b[0m 172ms/step - accuracy: 0.9660 - loss: 0.1009 - val_accuracy: 1.0000 - val_loss: 0.0046\n",
            "Epoch 5/10\n",
            "\u001b[1m687/687\u001b[0m \u001b[32m━━━━━━━━━━━━━━━━━━━━\u001b[0m\u001b[37m\u001b[0m \u001b[1m118s\u001b[0m 172ms/step - accuracy: 0.9690 - loss: 0.0936 - val_accuracy: 0.9998 - val_loss: 0.0016\n",
            "Epoch 6/10\n",
            "\u001b[1m687/687\u001b[0m \u001b[32m━━━━━━━━━━━━━━━━━━━━\u001b[0m\u001b[37m\u001b[0m \u001b[1m119s\u001b[0m 173ms/step - accuracy: 0.9743 - loss: 0.0726 - val_accuracy: 0.9995 - val_loss: 0.0019\n",
            "Epoch 7/10\n",
            "\u001b[1m687/687\u001b[0m \u001b[32m━━━━━━━━━━━━━━━━━━━━\u001b[0m\u001b[37m\u001b[0m \u001b[1m118s\u001b[0m 172ms/step - accuracy: 0.9769 - loss: 0.0693 - val_accuracy: 1.0000 - val_loss: 5.2092e-04\n",
            "Epoch 8/10\n",
            "\u001b[1m687/687\u001b[0m \u001b[32m━━━━━━━━━━━━━━━━━━━━\u001b[0m\u001b[37m\u001b[0m \u001b[1m118s\u001b[0m 172ms/step - accuracy: 0.9807 - loss: 0.0575 - val_accuracy: 0.9998 - val_loss: 0.0014\n",
            "Epoch 9/10\n",
            "\u001b[1m687/687\u001b[0m \u001b[32m━━━━━━━━━━━━━━━━━━━━\u001b[0m\u001b[37m\u001b[0m \u001b[1m119s\u001b[0m 174ms/step - accuracy: 0.9834 - loss: 0.0482 - val_accuracy: 0.9995 - val_loss: 0.0011\n",
            "Epoch 10/10\n",
            "\u001b[1m687/687\u001b[0m \u001b[32m━━━━━━━━━━━━━━━━━━━━\u001b[0m\u001b[37m\u001b[0m \u001b[1m119s\u001b[0m 173ms/step - accuracy: 0.9830 - loss: 0.0464 - val_accuracy: 1.0000 - val_loss: 9.7481e-05\n"
          ]
        }
      ],
      "source": [
        "# Compile model\n",
        "model.compile(optimizer='adam', loss='categorical_crossentropy', metrics=['accuracy'])\n",
        "\n",
        "# Train model\n",
        "epochs = 10\n",
        "model.fit(train_data, validation_data=val_data, epochs=epochs)\n",
        "\n",
        "# Save model in recommended format\n",
        "model.save(\"sign_language_model.keras\")\n"
      ]
    },
    {
      "cell_type": "code",
      "execution_count": null,
      "metadata": {
        "colab": {
          "base_uri": "https://localhost:8080/",
          "height": 472
        },
        "id": "bbwaq4-PrsMh",
        "outputId": "bd177e99-282e-4b37-b802-d30ded44736c"
      },
      "outputs": [
        {
          "output_type": "display_data",
          "data": {
            "text/plain": [
              "<Figure size 640x480 with 1 Axes>"
            ],
            "image/png": "[encoded data removed]"
          },
          "metadata": {}
        }
      ],
      "source": [
        "import matplotlib.pyplot as plt\n",
        "\n",
        "# Get training history\n",
        "history_dict = model.history.history\n",
        "\n",
        "# Plot accuracy\n",
        "plt.plot(history_dict['accuracy'], label='Training Accuracy')\n",
        "plt.plot(history_dict['val_accuracy'], label='Validation Accuracy')\n",
        "plt.xlabel('Epochs')\n",
        "plt.ylabel('Accuracy')\n",
        "plt.title('Model Accuracy Over Epochs')\n",
        "plt.legend()\n",
        "plt.show()\n"
      ]
    },
    {
      "cell_type": "code",
      "execution_count": null,
      "metadata": {
        "colab": {
          "base_uri": "https://localhost:8080/",
          "height": 472
        },
        "id": "VMaWzhKJryQH",
        "outputId": "de5bc26d-56c5-40a2-fed2-8fba2dd61c98"
      },
      "outputs": [
        {
          "output_type": "display_data",
          "data": {
            "text/plain": [
              "<Figure size 640x480 with 1 Axes>"
            ],
            "image/png": "[encoded data removed]"
          },
          "metadata": {}
        }
      ],
      "source": [
        "# Plot loss\n",
        "plt.plot(history_dict['loss'], label='Training Loss')\n",
        "plt.plot(history_dict['val_loss'], label='Validation Loss')\n",
        "plt.xlabel('Epochs')\n",
        "plt.ylabel('Loss')\n",
        "plt.title('Model Loss Over Epochs')\n",
        "plt.legend()\n",
        "plt.show()"
      ]
    },
    {
      "cell_type": "code",
      "execution_count": null,
      "metadata": {
        "colab": {
          "base_uri": "https://localhost:8080/"
        },
        "id": "eu9tySFnr0K8",
        "outputId": "c43e19aa-d1fe-48f2-d450-46d4ac6233c4"
      },
      "outputs": [
        {
          "output_type": "stream",
          "name": "stdout",
          "text": [
            "\u001b[1m172/172\u001b[0m \u001b[32m━━━━━━━━━━━━━━━━━━━━\u001b[0m\u001b[37m\u001b[0m \u001b[1m9s\u001b[0m 50ms/step - accuracy: 1.0000 - loss: 6.1242e-05\n",
            "Accuracy before fine-tuning: 1.0\n"
          ]
        }
      ],
      "source": [
        "_, accuracy_before = model.evaluate(val_data)\n",
        "print(f\"Accuracy before fine-tuning: {accuracy_before}\")"
      ]
    },
    {
      "cell_type": "code",
      "execution_count": null,
      "metadata": {
        "colab": {
          "base_uri": "https://localhost:8080/"
        },
        "id": "9b0e-rmOzh2M",
        "outputId": "8155364d-f6a2-4d4a-a800-609d3e8981de"
      },
      "outputs": [
        {
          "output_type": "stream",
          "name": "stdout",
          "text": [
            "Collecting keras-tuner\n",
            "  Downloading keras_tuner-1.4.7-py3-none-any.whl.metadata (5.4 kB)\n",
            "Requirement already satisfied: keras in /usr/local/lib/python3.11/dist-packages (from keras-tuner) (3.8.0)\n",
            "Requirement already satisfied: packaging in /usr/local/lib/python3.11/dist-packages (from keras-tuner) (24.2)\n",
            "Requirement already satisfied: requests in /usr/local/lib/python3.11/dist-packages (from keras-tuner) (2.32.3)\n",
            "Collecting kt-legacy (from keras-tuner)\n",
            "  Downloading kt_legacy-1.0.5-py3-none-any.whl.metadata (221 bytes)\n",
            "Requirement already satisfied: absl-py in /usr/local/lib/python3.11/dist-packages (from keras->keras-tuner) (1.4.0)\n",
            "Requirement already satisfied: numpy in /usr/local/lib/python3.11/dist-packages (from keras->keras-tuner) (2.0.2)\n",
            "Requirement already satisfied: rich in /usr/local/lib/python3.11/dist-packages (from keras->keras-tuner) (13.9.4)\n",
            "Requirement already satisfied: namex in /usr/local/lib/python3.11/dist-packages (from keras->keras-tuner) (0.0.8)\n",
            "Requirement already satisfied: h5py in /usr/local/lib/python3.11/dist-packages (from keras->keras-tuner) (3.13.0)\n",
            "Requirement already satisfied: optree in /usr/local/lib/python3.11/dist-packages (from keras->keras-tuner) (0.14.1)\n",
            "Requirement already satisfied: ml-dtypes in /usr/local/lib/python3.11/dist-packages (from keras->keras-tuner) (0.4.1)\n",
            "Requirement already satisfied: charset-normalizer<4,>=2 in /usr/local/lib/python3.11/dist-packages (from requests->keras-tuner) (3.4.1)\n",
            "Requirement already satisfied: idna<4,>=2.5 in /usr/local/lib/python3.11/dist-packages (from requests->keras-tuner) (3.10)\n",
            "Requirement already satisfied: urllib3<3,>=1.21.1 in /usr/local/lib/python3.11/dist-packages (from requests->keras-tuner) (2.3.0)\n",
            "Requirement already satisfied: certifi>=2017.4.17 in /usr/local/lib/python3.11/dist-packages (from requests->keras-tuner) (2025.1.31)\n",
            "Requirement already satisfied: typing-extensions>=4.5.0 in /usr/local/lib/python3.11/dist-packages (from optree->keras->keras-tuner) (4.13.1)\n",
            "Requirement already satisfied: markdown-it-py>=2.2.0 in /usr/local/lib/python3.11/dist-packages (from rich->keras->keras-tuner) (3.0.0)\n",
            "Requirement already satisfied: pygments<3.0.0,>=2.13.0 in /usr/local/lib/python3.11/dist-packages (from rich->keras->keras-tuner) (2.18.0)\n",
            "Requirement already satisfied: mdurl~=0.1 in /usr/local/lib/python3.11/dist-packages (from markdown-it-py>=2.2.0->rich->keras->keras-tuner) (0.1.2)\n",
            "Downloading keras_tuner-1.4.7-py3-none-any.whl (129 kB)\n",
            "\u001b[?25l   \u001b[90m━━━━━━━━━━━━━━━━━━━━━━━━━━━━━━━━━━━━━━━━\u001b[0m \u001b[32m0.0/129.1 kB\u001b[0m \u001b[31m?\u001b[0m eta \u001b[36m-:--:--\u001b[0m\r\u001b[2K   \u001b[90m━━━━━━━━━━━━━━━━━━━━━━━━━━━━━━━━━━━━━━━━\u001b[0m \u001b[32m129.1/129.1 kB\u001b[0m \u001b[31m3.7 MB/s\u001b[0m eta \u001b[36m0:00:00\u001b[0m\n",
            "\u001b[?25hDownloading kt_legacy-1.0.5-py3-none-any.whl (9.6 kB)\n",
            "Installing collected packages: kt-legacy, keras-tuner\n",
            "Successfully installed keras-tuner-1.4.7 kt-legacy-1.0.5\n"
          ]
        }
      ],
      "source": [
        "!pip install keras-tuner\n"
      ]
    },
    {
      "cell_type": "code",
      "execution_count": null,
      "metadata": {
        "id": "f1GIKsedr9xQ"
      },
      "outputs": [],
      "source": [
        "import keras_tuner as kt\n",
        "import tensorflow as tf\n",
        "from tensorflow.keras.models import Sequential\n",
        "from tensorflow.keras.layers import Conv2D, MaxPooling2D, Flatten, Dense, Dropout\n",
        "\n",
        "# Define image parameters\n",
        "IMG_SIZE = 64\n",
        "\n",
        "# Function to build and tune the CNN model\n",
        "def build_model(hp):\n",
        "    model = Sequential()\n",
        "    model.add(Conv2D(filters=hp.Int('conv_1_filter', min_value=32, max_value=128, step=32),\n",
        "                     kernel_size=hp.Choice('conv_1_kernel', values=[3, 5]),\n",
        "                     activation='relu',\n",
        "                     input_shape=(IMG_SIZE, IMG_SIZE, 3)))\n",
        "    model.add(MaxPooling2D(pool_size=(2, 2)))\n",
        "\n",
        "    model.add(Conv2D(filters=hp.Int('conv_2_filter', min_value=32, max_value=64, step=32),\n",
        "                     kernel_size=hp.Choice('conv_2_kernel', values=[3, 5]),\n",
        "                     activation='relu'))\n",
        "    model.add(MaxPooling2D(pool_size=(2, 2)))\n",
        "\n",
        "    model.add(Flatten())\n",
        "    model.add(Dense(units=hp.Int('dense_1_units', min_value=32, max_value=128, step=32),\n",
        "                    activation='relu'))\n",
        "    model.add(Dropout(0.5))\n",
        "    model.add(Dense(24, activation='softmax'))  # Assuming 24 classes (A-Z excluding J and Z)\n",
        "\n",
        "    model.compile(optimizer=tf.keras.optimizers.Adam(hp.Choice('learning_rate', values=[1e-2, 1e-3, 1e-4])),\n",
        "                  loss='categorical_crossentropy',\n",
        "                  metrics=['accuracy'])\n",
        "    return model\n"
      ]
    },
    {
      "cell_type": "code",
      "execution_count": null,
      "metadata": {
        "id": "47VS7iml1XYN"
      },
      "outputs": [],
      "source": [
        "import keras_tuner as kt\n",
        "\n",
        "# Define Hyperparameter Tuning\n",
        "tuner = kt.RandomSearch(\n",
        "    build_model,  # Function to build the CNN model\n",
        "    objective='val_accuracy',  # Optimize for highest validation accuracy\n",
        "    max_trials=3,  # Reduced from 10 → Faster tuning\n",
        "    executions_per_trial=1,  # Run each trial once\n",
        "    directory='hyperparameter_tuning',\n",
        "    project_name='cnn_sign_language_tuning'\n",
        ")\n"
      ]
    },
    {
      "cell_type": "code",
      "execution_count": null,
      "metadata": {
        "id": "YfTNyIjDsFug"
      },
      "outputs": [],
      "source": [
        "# Early stopping to prevent overfitting\n",
        "stop_early = tf.keras.callbacks.EarlyStopping(monitor='val_loss', patience=5, restore_best_weights=True)\n"
      ]
    },
    {
      "cell_type": "code",
      "execution_count": null,
      "metadata": {
        "colab": {
          "base_uri": "https://localhost:8080/"
        },
        "id": "I2hyDcgdHx5m",
        "outputId": "8a44f56d-bc99-46fe-cd24-a3a48bcf2376"
      },
      "outputs": [
        {
          "output_type": "stream",
          "name": "stdout",
          "text": [
            "['BATCH_SIZE', 'Conv2D', 'Dense', 'Dropout', 'Flatten', 'IMG_SIZE', 'ImageDataGenerator', 'In', 'MaxPooling2D', 'Out', 'Sequential', '_', '__', '___', '__builtin__', '__builtins__', '__doc__', '__loader__', '__name__', '__package__', '__spec__', '_dh', '_exit_code', '_i', '_i1', '_i10', '_i11', '_i12', '_i13', '_i14', '_i15', '_i2', '_i3', '_i4', '_i5', '_i6', '_i7', '_i8', '_i9', '_ih', '_ii', '_iii', '_oh', 'accuracy_before', 'build_model', 'datagen', 'dataset_path', 'epochs', 'exit', 'filename', 'files', 'get_ipython', 'history_dict', 'kt', 'model', 'np', 'os', 'plt', 'quit', 'stop_early', 'tf', 'train_data', 'train_dir', 'tuner', 'uploaded', 'val_data', 'zip_ref', 'zipfile']\n"
          ]
        }
      ],
      "source": [
        "print(dir())  # Lists all defined variables\n"
      ]
    },
    {
      "cell_type": "code",
      "execution_count": null,
      "metadata": {
        "id": "ex_V80_6G7sp"
      },
      "outputs": [],
      "source": [
        "import tensorflow as tf\n",
        "\n",
        "# Define Early Stopping\n",
        "stop_early = tf.keras.callbacks.EarlyStopping(\n",
        "    monitor='val_accuracy',  # Stop if validation accuracy does not improve\n",
        "    patience=3,  # Wait 3 epochs before stopping\n",
        "    mode='max'  # Maximizing validation accuracy\n",
        ")\n"
      ]
    },
    {
      "cell_type": "code",
      "execution_count": null,
      "metadata": {
        "id": "EuVs4kUtbCoJ",
        "colab": {
          "base_uri": "https://localhost:8080/"
        },
        "outputId": "bd8d130c-5f37-4e48-f083-54bc723741ab"
      },
      "outputs": [
        {
          "output_type": "stream",
          "name": "stdout",
          "text": [
            "Trial 3 Complete [00h 41m 09s]\n",
            "val_accuracy: 0.047071702778339386\n",
            "\n",
            "Best val_accuracy So Far: 0.9186279773712158\n",
            "Total elapsed time: 01h 58m 33s\n"
          ]
        }
      ],
      "source": [
        "tuner.search(\n",
        "    train_data,\n",
        "    epochs=5,  # Train for max 5 epochs\n",
        "    validation_data=val_data,\n",
        "    callbacks=[stop_early]  # Stop if accuracy doesn't improve\n",
        ")\n"
      ]
    },
    {
      "cell_type": "code",
      "execution_count": null,
      "metadata": {
        "id": "JZ2Dl7b2sh5P"
      },
      "outputs": [],
      "source": [
        "\n",
        "# Retrieve the best hyperparameters\n",
        "best_hps = tuner.get_best_hyperparameters(num_trials=1)[0]"
      ]
    },
    {
      "cell_type": "code",
      "execution_count": null,
      "metadata": {
        "id": "WwP-8FhSsu2d",
        "colab": {
          "base_uri": "https://localhost:8080/"
        },
        "outputId": "57bb0168-db68-4000-a9d1-1d84fbb491fb"
      },
      "outputs": [
        {
          "output_type": "stream",
          "name": "stdout",
          "text": [
            "Epoch 1/8\n",
            "\u001b[1m687/687\u001b[0m \u001b[32m━━━━━━━━━━━━━━━━━━━━\u001b[0m\u001b[37m\u001b[0m \u001b[1m511s\u001b[0m 741ms/step - accuracy: 0.0689 - loss: 3.1182 - val_accuracy: 0.3640 - val_loss: 2.4168\n",
            "Epoch 2/8\n",
            "\u001b[1m687/687\u001b[0m \u001b[32m━━━━━━━━━━━━━━━━━━━━\u001b[0m\u001b[37m\u001b[0m \u001b[1m508s\u001b[0m 739ms/step - accuracy: 0.2438 - loss: 2.4490 - val_accuracy: 0.6731 - val_loss: 1.4938\n",
            "Epoch 3/8\n",
            "\u001b[1m687/687\u001b[0m \u001b[32m━━━━━━━━━━━━━━━━━━━━\u001b[0m\u001b[37m\u001b[0m \u001b[1m492s\u001b[0m 716ms/step - accuracy: 0.3827 - loss: 1.9184 - val_accuracy: 0.8217 - val_loss: 0.9146\n",
            "Epoch 4/8\n",
            "\u001b[1m687/687\u001b[0m \u001b[32m━━━━━━━━━━━━━━━━━━━━\u001b[0m\u001b[37m\u001b[0m \u001b[1m496s\u001b[0m 722ms/step - accuracy: 0.4928 - loss: 1.5415 - val_accuracy: 0.8958 - val_loss: 0.6349\n",
            "Epoch 5/8\n",
            "\u001b[1m687/687\u001b[0m \u001b[32m━━━━━━━━━━━━━━━━━━━━\u001b[0m\u001b[37m\u001b[0m \u001b[1m494s\u001b[0m 720ms/step - accuracy: 0.5551 - loss: 1.3278 - val_accuracy: 0.9480 - val_loss: 0.4404\n",
            "Epoch 6/8\n",
            "\u001b[1m687/687\u001b[0m \u001b[32m━━━━━━━━━━━━━━━━━━━━\u001b[0m\u001b[37m\u001b[0m \u001b[1m495s\u001b[0m 720ms/step - accuracy: 0.6144 - loss: 1.1423 - val_accuracy: 0.9670 - val_loss: 0.3136\n",
            "Epoch 7/8\n",
            "\u001b[1m687/687\u001b[0m \u001b[32m━━━━━━━━━━━━━━━━━━━━\u001b[0m\u001b[37m\u001b[0m \u001b[1m495s\u001b[0m 720ms/step - accuracy: 0.6381 - loss: 1.0356 - val_accuracy: 0.9743 - val_loss: 0.2336\n",
            "Epoch 8/8\n",
            "\u001b[1m687/687\u001b[0m \u001b[32m━━━━━━━━━━━━━━━━━━━━\u001b[0m\u001b[37m\u001b[0m \u001b[1m499s\u001b[0m 716ms/step - accuracy: 0.6695 - loss: 0.9342 - val_accuracy: 0.9823 - val_loss: 0.1602\n"
          ]
        }
      ],
      "source": [
        "# Build and train the best model\n",
        "best_model = tuner.hypermodel.build(best_hps)\n",
        "history = best_model.fit(train_data, epochs=8, validation_data=val_data)"
      ]
    },
    {
      "cell_type": "code",
      "execution_count": null,
      "metadata": {
        "id": "DqSqGFzt1z8u",
        "colab": {
          "base_uri": "https://localhost:8080/"
        },
        "outputId": "dea0503e-4470-4912-f82c-a6aae8679a89"
      },
      "outputs": [
        {
          "output_type": "stream",
          "name": "stdout",
          "text": [
            "\u001b[1m172/172\u001b[0m \u001b[32m━━━━━━━━━━━━━━━━━━━━\u001b[0m\u001b[37m\u001b[0m \u001b[1m31s\u001b[0m 178ms/step - accuracy: 0.9822 - loss: 0.1582\n",
            "Model Evaluation - Loss: 0.1602, Accuracy: 98.2302%\n"
          ]
        }
      ],
      "source": [
        "# Evaluate model performance after fine-tuning\n",
        "loss_after, accuracy_after = best_model.evaluate(val_data)\n",
        "print(f\"Model Evaluation - Loss: {loss_after:.4f}, Accuracy: {accuracy_after:.4%}\")\n"
      ]
    },
    {
      "cell_type": "code",
      "source": [
        "\n",
        "import numpy as np\n",
        "import seaborn as sns\n",
        "from sklearn.metrics import confusion_matrix, classification_report\n",
        "# Function to test the model on a new image\n",
        "def test_model(image_path):\n",
        "    from tensorflow.keras.preprocessing import image\n",
        "    img = image.load_img(image_path, target_size=(IMG_SIZE, IMG_SIZE))\n",
        "    img_array = image.img_to_array(img) / 255.0\n",
        "    img_array = np.expand_dims(img_array, axis=0)\n",
        "\n",
        "    prediction = best_model.predict(img_array)\n",
        "    class_idx = np.argmax(prediction)\n",
        "    class_label = list(train_data.class_indices.keys())[class_idx]\n",
        "    print(f\"Predicted Class: {class_label}\")\n",
        "    return class_label"
      ],
      "metadata": {
        "id": "91kPpTpZ0YrK"
      },
      "execution_count": null,
      "outputs": []
    },
    {
      "cell_type": "code",
      "execution_count": null,
      "metadata": {
        "id": "DmLCQiOa3Zet"
      },
      "outputs": [],
      "source": [
        "# Function to evaluate the model with confusion matrix and classification report\n",
        "def evaluate_model():\n",
        "    y_true = test_data.classes  # Actual labels\n",
        "    y_pred = np.argmax(best_model.predict(test_data), axis=1)  # Predicted labels\n",
        "\n",
        "    # Confusion Matrix\n",
        "    cm = confusion_matrix(y_true, y_pred)\n",
        "    plt.figure(figsize=(10, 8))\n",
        "    sns.heatmap(cm, annot=True, fmt=\"d\", cmap=\"Blues\",\n",
        "                xticklabels=test_data.class_indices.keys(),\n",
        "                yticklabels=test_data.class_indices.keys())\n",
        "    plt.xlabel('Predicted')\n",
        "    plt.ylabel('Actual')\n",
        "    plt.title('Confusion Matrix')\n",
        "    plt.show()\n",
        "\n",
        "    # Classification Report\n",
        "    print(\"Classification Report:\")\n",
        "    print(classification_report(y_true, y_pred, target_names=test_data.class_indices.keys()))"
      ]
    },
    {
      "cell_type": "code",
      "execution_count": null,
      "metadata": {
        "id": "E1-pyWDxlmO4"
      },
      "outputs": [],
      "source": [
        "from PIL import Image\n"
      ]
    },
    {
      "cell_type": "code",
      "source": [
        "\n",
        "import numpy as np\n",
        "import seaborn as sns\n",
        "from sklearn.metrics import confusion_matrix, classification_report\n",
        "# Function to test the model on a new image\n",
        "def test_model(image_path):\n",
        "    from tensorflow.keras.preprocessing import image\n",
        "    img = image.load_img(image_path, target_size=(IMG_SIZE, IMG_SIZE))\n",
        "    img_array = image.img_to_array(img) / 255.0\n",
        "    img_array = np.expand_dims(img_array, axis=0)\n",
        "\n",
        "    prediction = best_model.predict(img_array)\n",
        "    class_idx = np.argmax(prediction)\n",
        "    class_label = list(train_data.class_indices.keys())[class_idx]\n",
        "    print(f\"Predicted Class: {class_label}\")\n",
        "    return class_label"
      ],
      "metadata": {
        "id": "-s8eGA7C0oiF"
      },
      "execution_count": null,
      "outputs": []
    },
    {
      "cell_type": "code",
      "execution_count": null,
      "metadata": {
        "id": "g08hDpaDlpGs"
      },
      "outputs": [],
      "source": [
        "from PIL import Image  # ✅ Fix: Import the missing module\n",
        "\n",
        "def predict_sign_language():\n",
        "    for img_name in uploaded.keys():\n",
        "        img_path = img_name\n",
        "        img = Image.open(img_path).convert('RGB')  # ✅ Now Image is recognized\n",
        "        img = img.resize((IMG_SIZE, IMG_SIZE))\n",
        "        img_array = np.array(img) / 255.0\n"
      ]
    },
    {
      "cell_type": "code",
      "execution_count": null,
      "metadata": {
        "id": "hgDNZyfVsvc-",
        "colab": {
          "base_uri": "https://localhost:8080/",
          "height": 251
        },
        "outputId": "5f20a83b-17f5-444e-f298-174bc83b0ae3"
      },
      "outputs": [
        {
          "output_type": "stream",
          "name": "stdout",
          "text": [
            "Found 21974 images belonging to 24 classes.\n"
          ]
        },
        {
          "output_type": "display_data",
          "data": {
            "text/plain": [
              "<IPython.core.display.HTML object>"
            ],
            "text/html": [
              "\n",
              "     <input type=\"file\" id=\"files-8f942a90-1564-481a-9354-7681a516d437\" name=\"files[]\" multiple disabled\n",
              "        style=\"border:none\" />\n",
              "     <output id=\"result-8f942a90-1564-481a-9354-7681a516d437\">\n",
              "      Upload widget is only available when the cell has been executed in the\n",
              "      current browser session. Please rerun this cell to enable.\n",
              "      </output>\n",
              "      <script>// Copyright 2017 Google LLC\n",
              "//\n",
              "// Licensed under the Apache License, Version 2.0 (the \"License\");\n",
              "// you may not use this file except in compliance with the License.\n",
              "// You may obtain a copy of the License at\n",
              "//\n",
              "//      http://www.apache.org/licenses/LICENSE-2.0\n",
              "//\n",
              "// Unless required by applicable law or agreed to in writing, software\n",
              "// distributed under the License is distributed on an \"AS IS\" BASIS,\n",
              "// WITHOUT WARRANTIES OR CONDITIONS OF ANY KIND, either express or implied.\n",
              "// See the License for the specific language governing permissions and\n",
              "// limitations under the License.\n",
              "\n",
              "/**\n",
              " * @fileoverview Helpers for google.colab Python module.\n",
              " */\n",
              "(function(scope) {\n",
              "function span(text, styleAttributes = {}) {\n",
              "  const element = document.createElement('span');\n",
              "  element.textContent = text;\n",
              "  for (const key of Object.keys(styleAttributes)) {\n",
              "    element.style[key] = styleAttributes[key];\n",
              "  }\n",
              "  return element;\n",
              "}\n",
              "\n",
              "// Max number of bytes which will be uploaded at a time.\n",
              "const MAX_PAYLOAD_SIZE = 100 * 1024;\n",
              "\n",
              "function _uploadFiles(inputId, outputId) {\n",
              "  const steps = uploadFilesStep(inputId, outputId);\n",
              "  const outputElement = document.getElementById(outputId);\n",
              "  // Cache steps on the outputElement to make it available for the next call\n",
              "  // to uploadFilesContinue from Python.\n",
              "  outputElement.steps = steps;\n",
              "\n",
              "  return _uploadFilesContinue(outputId);\n",
              "}\n",
              "\n",
              "// This is roughly an async generator (not supported in the browser yet),\n",
              "// where there are multiple asynchronous steps and the Python side is going\n",
              "// to poll for completion of each step.\n",
              "// This uses a Promise to block the python side on completion of each step,\n",
              "// then passes the result of the previous step as the input to the next step.\n",
              "function _uploadFilesContinue(outputId) {\n",
              "  const outputElement = document.getElementById(outputId);\n",
              "  const steps = outputElement.steps;\n",
              "\n",
              "  const next = steps.next(outputElement.lastPromiseValue);\n",
              "  return Promise.resolve(next.value.promise).then((value) => {\n",
              "    // Cache the last promise value to make it available to the next\n",
              "    // step of the generator.\n",
              "    outputElement.lastPromiseValue = value;\n",
              "    return next.value.response;\n",
              "  });\n",
              "}\n",
              "\n",
              "/**\n",
              " * Generator function which is called between each async step of the upload\n",
              " * process.\n",
              " * @param {string} inputId Element ID of the input file picker element.\n",
              " * @param {string} outputId Element ID of the output display.\n",
              " * @return {!Iterable<!Object>} Iterable of next steps.\n",
              " */\n",
              "function* uploadFilesStep(inputId, outputId) {\n",
              "  const inputElement = document.getElementById(inputId);\n",
              "  inputElement.disabled = false;\n",
              "\n",
              "  const outputElement = document.getElementById(outputId);\n",
              "  outputElement.innerHTML = '';\n",
              "\n",
              "  const pickedPromise = new Promise((resolve) => {\n",
              "    inputElement.addEventListener('change', (e) => {\n",
              "      resolve(e.target.files);\n",
              "    });\n",
              "  });\n",
              "\n",
              "  const cancel = document.createElement('button');\n",
              "  inputElement.parentElement.appendChild(cancel);\n",
              "  cancel.textContent = 'Cancel upload';\n",
              "  const cancelPromise = new Promise((resolve) => {\n",
              "    cancel.onclick = () => {\n",
              "      resolve(null);\n",
              "    };\n",
              "  });\n",
              "\n",
              "  // Wait for the user to pick the files.\n",
              "  const files = yield {\n",
              "    promise: Promise.race([pickedPromise, cancelPromise]),\n",
              "    response: {\n",
              "      action: 'starting',\n",
              "    }\n",
              "  };\n",
              "\n",
              "  cancel.remove();\n",
              "\n",
              "  // Disable the input element since further picks are not allowed.\n",
              "  inputElement.disabled = true;\n",
              "\n",
              "  if (!files) {\n",
              "    return {\n",
              "      response: {\n",
              "        action: 'complete',\n",
              "      }\n",
              "    };\n",
              "  }\n",
              "\n",
              "  for (const file of files) {\n",
              "    const li = document.createElement('li');\n",
              "    li.append(span(file.name, {fontWeight: 'bold'}));\n",
              "    li.append(span(\n",
              "        `(${file.type || 'n/a'}) - ${file.size} bytes, ` +\n",
              "        `last modified: ${\n",
              "            file.lastModifiedDate ? file.lastModifiedDate.toLocaleDateString() :\n",
              "                                    'n/a'} - `));\n",
              "    const percent = span('0% done');\n",
              "    li.appendChild(percent);\n",
              "\n",
              "    outputElement.appendChild(li);\n",
              "\n",
              "    const fileDataPromise = new Promise((resolve) => {\n",
              "      const reader = new FileReader();\n",
              "      reader.onload = (e) => {\n",
              "        resolve(e.target.result);\n",
              "      };\n",
              "      reader.readAsArrayBuffer(file);\n",
              "    });\n",
              "    // Wait for the data to be ready.\n",
              "    let fileData = yield {\n",
              "      promise: fileDataPromise,\n",
              "      response: {\n",
              "        action: 'continue',\n",
              "      }\n",
              "    };\n",
              "\n",
              "    // Use a chunked sending to avoid message size limits. See b/62115660.\n",
              "    let position = 0;\n",
              "    do {\n",
              "      const length = Math.min(fileData.byteLength - position, MAX_PAYLOAD_SIZE);\n",
              "      const chunk = new Uint8Array(fileData, position, length);\n",
              "      position += length;\n",
              "\n",
              "      const base64 = btoa(String.fromCharCode.apply(null, chunk));\n",
              "      yield {\n",
              "        response: {\n",
              "          action: 'append',\n",
              "          file: file.name,\n",
              "          data: base64,\n",
              "        },\n",
              "      };\n",
              "\n",
              "      let percentDone = fileData.byteLength === 0 ?\n",
              "          100 :\n",
              "          Math.round((position / fileData.byteLength) * 100);\n",
              "      percent.textContent = `${percentDone}% done`;\n",
              "\n",
              "    } while (position < fileData.byteLength);\n",
              "  }\n",
              "\n",
              "  // All done.\n",
              "  yield {\n",
              "    response: {\n",
              "      action: 'complete',\n",
              "    }\n",
              "  };\n",
              "}\n",
              "\n",
              "scope.google = scope.google || {};\n",
              "scope.google.colab = scope.google.colab || {};\n",
              "scope.google.colab._files = {\n",
              "  _uploadFiles,\n",
              "  _uploadFilesContinue,\n",
              "};\n",
              "})(self);\n",
              "</script> "
            ]
          },
          "metadata": {}
        },
        {
          "output_type": "stream",
          "name": "stdout",
          "text": [
            "Saving 960_L - Copy.jpg to 960_L - Copy.jpg\n",
            "Saving 960_L.jpg to 960_L.jpg\n",
            "\u001b[1m1/1\u001b[0m \u001b[32m━━━━━━━━━━━━━━━━━━━━\u001b[0m\u001b[37m\u001b[0m \u001b[1m0s\u001b[0m 128ms/step\n",
            "Predicted Letter for 960_L - Copy.jpg: L\n",
            "\u001b[1m1/1\u001b[0m \u001b[32m━━━━━━━━━━━━━━━━━━━━\u001b[0m\u001b[37m\u001b[0m \u001b[1m0s\u001b[0m 42ms/step\n",
            "Predicted Letter for 960_L.jpg: L\n"
          ]
        },
        {
          "output_type": "execute_result",
          "data": {
            "text/plain": [
              "<IPython.lib.display.Audio object>"
            ],
            "text/html": [
              "\n",
              "                <audio  controls=\"controls\" >\n",
              "                    <source src=\"data:audio/mpeg;base64,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\" type=\"audio/mpeg\" />\n",
              "                    Your browser does not support the audio element.\n",
              "                </audio>\n",
              "              "
            ]
          },
          "metadata": {},
          "execution_count": 25
        }
      ],
      "source": [
        "import numpy as np\n",
        "import tensorflow as tf\n",
        "import os\n",
        "from tensorflow.keras.preprocessing.image import ImageDataGenerator\n",
        "from PIL import Image  # Fix: Import Image module\n",
        "from gtts import gTTS  # Fix: Import gTTS for text-to-speech\n",
        "import IPython.display as ipd  # Fix: Import for playing audio in Colab\n",
        "from google.colab import files  # Import for file upload\n",
        "\n",
        "# Define Image Size\n",
        "IMG_SIZE = 64\n",
        "\n",
        "# Load Pretrained Model (Ensure 'model' is already loaded)\n",
        "# model = tf.keras.models.load_model('your_model_path.h5')  # Uncomment if needed\n",
        "\n",
        "# Load Dataset to Get Class Indices\n",
        "dataset_path = \"/content/dataset/\"  # Adjust path accordingly\n",
        "train_dir = os.path.join(dataset_path, \"Train\")\n",
        "\n",
        "datagen = ImageDataGenerator(rescale=1.0/255, validation_split=0.2)\n",
        "train_data = datagen.flow_from_directory(\n",
        "    train_dir,\n",
        "    target_size=(IMG_SIZE, IMG_SIZE),\n",
        "    batch_size=32,\n",
        "    class_mode='categorical',\n",
        "    subset='training'\n",
        ")\n",
        "\n",
        "# Function to Predict Multiple Images\n",
        "def predict_sign_language():\n",
        "    uploaded = files.upload()\n",
        "    if not uploaded:\n",
        "        print(\"No files uploaded. Please upload an image.\")\n",
        "        return\n",
        "\n",
        "    predictions = {}\n",
        "\n",
        "    for img_name in uploaded.keys():\n",
        "        try:\n",
        "            img_path = img_name\n",
        "            img = Image.open(img_path).convert(\"RGB\")\n",
        "            img = img.resize((IMG_SIZE, IMG_SIZE))\n",
        "            img_array = np.array(img) / 255.0\n",
        "            img_array = np.expand_dims(img_array, axis=0)\n",
        "\n",
        "            prediction = model.predict(img_array)\n",
        "            class_idx = np.argmax(prediction)\n",
        "            class_label = list(train_data.class_indices.keys())[class_idx]\n",
        "\n",
        "            print(f\"Predicted Letter for {img_name}: {class_label}\")\n",
        "            predictions[img_name] = class_label\n",
        "\n",
        "        except Exception as e:\n",
        "            print(f\"Error processing {img_name}: {str(e)}\")\n",
        "\n",
        "    # Convert all predictions to speech\n",
        "    if predictions:\n",
        "        text_output = \", \".join(predictions.values())\n",
        "        tts = gTTS(text=text_output, lang=\"en\")\n",
        "        tts.save(\"output.mp3\")\n",
        "        return ipd.Audio(\"output.mp3\")\n",
        "    else:\n",
        "        print(\"No valid images processed.\")\n",
        "\n",
        "# Run Prediction\n",
        "predict_sign_language()\n"
      ]
    },
    {
      "cell_type": "code",
      "source": [
        "predict_sign_language()\n"
      ],
      "metadata": {
        "id": "ez7oGb5d0p3Y"
      },
      "execution_count": null,
      "outputs": []
    },
    {
      "cell_type": "code",
      "source": [
        "!pip install streamlit\n"
      ],
      "metadata": {
        "id": "0_hIYhfN0tRq"
      },
      "execution_count": null,
      "outputs": []
    },
    {
      "cell_type": "code",
      "source": [
        "!pip install streamlit pyngrok --quiet\n"
      ],
      "metadata": {
        "id": "O8ji0prE0xci"
      },
      "execution_count": null,
      "outputs": []
    },
    {
      "cell_type": "code",
      "source": [
        "pip install pyttsx3"
      ],
      "metadata": {
        "id": "K6KdkJbF00Fk"
      },
      "execution_count": null,
      "outputs": []
    },
    {
      "cell_type": "code",
      "source": [
        "%%writefile app.py\n",
        "import streamlit as st\n",
        "import tensorflow as tf\n",
        "import numpy as np\n",
        "from PIL import Image\n",
        "import os\n",
        "import base64\n",
        "from gtts import gTTS\n",
        "from io import BytesIO\n",
        "import tempfile\n",
        "\n",
        "MODEL_PATH = \"sign_language_model.keras\"\n",
        "if not os.path.exists(MODEL_PATH):\n",
        "    st.error(f\"Model file `{MODEL_PATH}` not found! Please upload the model.\")\n",
        "else:\n",
        "    model = tf.keras.models.load_model(MODEL_PATH)\n",
        "\n",
        "CLASS_LABELS = list(\"ABCDEFGHIKLMNOPQRSTUVWXY\")\n",
        "\n",
        "st.set_page_config(page_title=\"🤟 Sign Language Recognition\", layout=\"wide\")\n",
        "\n",
        "# Background image\n",
        "background_image = \"signbg.jpg\"\n",
        "if os.path.exists(background_image):\n",
        "    with open(background_image, \"rb\") as f:\n",
        "        bg_encoded = base64.b64encode(f.read()).decode()\n",
        "    st.markdown(\n",
        "        f\"\"\"\n",
        "        <style>\n",
        "        .stApp {{\n",
        "            background-image: url(\"data:image/jpg;base64,{bg_encoded}\");\n",
        "            background-size: cover;\n",
        "            background-position: center;\n",
        "        }}\n",
        "        </style>\n",
        "        \"\"\",\n",
        "        unsafe_allow_html=True\n",
        "    )\n",
        "else:\n",
        "    st.warning(\"⚠️ Background image 'signbg.jpg' not found.\")\n",
        "\n",
        "st.title(\"🤟 Sign Language Recognition\")\n",
        "\n",
        "uploaded_files = st.file_uploader(\"Upload Hand Gesture Images\", type=[\"jpg\", \"jpeg\", \"png\"], accept_multiple_files=True)\n",
        "\n",
        "def predict_sign(image):\n",
        "    img = image.resize((64, 64))\n",
        "    img_array = np.array(img) / 255.0\n",
        "    img_array = np.expand_dims(img_array, axis=0)\n",
        "    prediction = model.predict(img_array)\n",
        "    predicted_class = CLASS_LABELS[np.argmax(prediction)]\n",
        "    return predicted_class\n",
        "\n",
        "# Speak using gTTS\n",
        "def speak(text):\n",
        "    tts = gTTS(text=text, lang='en')\n",
        "    with tempfile.NamedTemporaryFile(delete=False, suffix=\".mp3\") as fp:\n",
        "        tts.save(fp.name)\n",
        "        st.audio(fp.name, format='audio/mp3')\n",
        "\n",
        "# Predictions\n",
        "if uploaded_files:\n",
        "    st.subheader(\"📸 Predictions:\")\n",
        "    for uploaded_file in uploaded_files:\n",
        "        image = Image.open(uploaded_file).convert(\"RGB\")\n",
        "        label = predict_sign(image)\n",
        "        st.image(image, caption=f\"Prediction: {label}\", use_container_width=True)\n",
        "        st.success(f\"✅ Predicted Sign: **{label}**\")\n",
        "        speak(f\"The predicted sign is {label}\")\n",
        "\n",
        "\n",
        "\n"
      ],
      "metadata": {
        "id": "khZznjTH02oP"
      },
      "execution_count": null,
      "outputs": []
    },
    {
      "cell_type": "code",
      "source": [
        "!streamlit run app.py &>/content/log.txt &\n",
        "\n"
      ],
      "metadata": {
        "id": "ZgEVRBBt07dM"
      },
      "execution_count": null,
      "outputs": []
    },
    {
      "cell_type": "code",
      "source": [
        "!pkill -f ngrok\n"
      ],
      "metadata": {
        "id": "NxQzes1E0943"
      },
      "execution_count": null,
      "outputs": []
    },
    {
      "cell_type": "code",
      "source": [
        "!streamlit run app.py &>/content/log.txt &\n"
      ],
      "metadata": {
        "id": "yTeD0re_1CUs"
      },
      "execution_count": null,
      "outputs": []
    },
    {
      "cell_type": "code",
      "source": [
        "from pyngrok import ngrok\n",
        "\n",
        "# Kill any existing tunnel (extra safety)\n",
        "ngrok.kill()\n",
        "\n",
        "# Start new tunnel\n",
        "public_url = ngrok.connect(\"http://localhost:8501\")\n",
        "print(\"🔗 Public URL:\", public_url)\n"
      ],
      "metadata": {
        "id": "dDzrafOu1C5L"
      },
      "execution_count": null,
      "outputs": []
    }
  ],
  "metadata": {
    "colab": {
      "provenance": [],
      "include_colab_link": true
    },
    "kernelspec": {
      "display_name": "Python 3",
      "name": "python3"
    }
  },
  "nbformat": 4,
  "nbformat_minor": 0
}
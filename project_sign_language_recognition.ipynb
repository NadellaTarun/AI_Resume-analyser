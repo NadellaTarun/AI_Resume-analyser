{
  "cells": [
    {
      "cell_type": "markdown",
      "metadata": {
        "id": "view-in-github",
        "colab_type": "text"
      },
      "source": [
        "<a href=\"https://colab.research.google.com/github/NadellaTarun/AI_Resume-analyser/blob/main/project_sign_language_recognition.ipynb\" target=\"_parent\"><img src=\"https://colab.research.google.com/assets/colab-badge.svg\" alt=\"Open In Colab\"/></a>"
      ]
    },
    {
      "cell_type": "code",
      "execution_count": 2,
      "metadata": {
        "id": "9JMoqLwtrO_C",
        "colab": {
          "base_uri": "https://localhost:8080/",
          "height": 73
        },
        "outputId": "3451c06a-2a15-480b-c89d-8e83a301dfb0"
      },
      "outputs": [
        {
          "output_type": "display_data",
          "data": {
            "text/plain": [
              "<IPython.core.display.HTML object>"
            ],
            "text/html": [
              "\n",
              "     <input type=\"file\" id=\"files-311f90d6-5972-4ab7-a2e3-05e0e67f210d\" name=\"files[]\" multiple disabled\n",
              "        style=\"border:none\" />\n",
              "     <output id=\"result-311f90d6-5972-4ab7-a2e3-05e0e67f210d\">\n",
              "      Upload widget is only available when the cell has been executed in the\n",
              "      current browser session. Please rerun this cell to enable.\n",
              "      </output>\n",
              "      <script>// Copyright 2017 Google LLC\n",
              "//\n",
              "// Licensed under the Apache License, Version 2.0 (the \"License\");\n",
              "// you may not use this file except in compliance with the License.\n",
              "// You may obtain a copy of the License at\n",
              "//\n",
              "//      http://www.apache.org/licenses/LICENSE-2.0\n",
              "//\n",
              "// Unless required by applicable law or agreed to in writing, software\n",
              "// distributed under the License is distributed on an \"AS IS\" BASIS,\n",
              "// WITHOUT WARRANTIES OR CONDITIONS OF ANY KIND, either express or implied.\n",
              "// See the License for the specific language governing permissions and\n",
              "// limitations under the License.\n",
              "\n",
              "/**\n",
              " * @fileoverview Helpers for google.colab Python module.\n",
              " */\n",
              "(function(scope) {\n",
              "function span(text, styleAttributes = {}) {\n",
              "  const element = document.createElement('span');\n",
              "  element.textContent = text;\n",
              "  for (const key of Object.keys(styleAttributes)) {\n",
              "    element.style[key] = styleAttributes[key];\n",
              "  }\n",
              "  return element;\n",
              "}\n",
              "\n",
              "// Max number of bytes which will be uploaded at a time.\n",
              "const MAX_PAYLOAD_SIZE = 100 * 1024;\n",
              "\n",
              "function _uploadFiles(inputId, outputId) {\n",
              "  const steps = uploadFilesStep(inputId, outputId);\n",
              "  const outputElement = document.getElementById(outputId);\n",
              "  // Cache steps on the outputElement to make it available for the next call\n",
              "  // to uploadFilesContinue from Python.\n",
              "  outputElement.steps = steps;\n",
              "\n",
              "  return _uploadFilesContinue(outputId);\n",
              "}\n",
              "\n",
              "// This is roughly an async generator (not supported in the browser yet),\n",
              "// where there are multiple asynchronous steps and the Python side is going\n",
              "// to poll for completion of each step.\n",
              "// This uses a Promise to block the python side on completion of each step,\n",
              "// then passes the result of the previous step as the input to the next step.\n",
              "function _uploadFilesContinue(outputId) {\n",
              "  const outputElement = document.getElementById(outputId);\n",
              "  const steps = outputElement.steps;\n",
              "\n",
              "  const next = steps.next(outputElement.lastPromiseValue);\n",
              "  return Promise.resolve(next.value.promise).then((value) => {\n",
              "    // Cache the last promise value to make it available to the next\n",
              "    // step of the generator.\n",
              "    outputElement.lastPromiseValue = value;\n",
              "    return next.value.response;\n",
              "  });\n",
              "}\n",
              "\n",
              "/**\n",
              " * Generator function which is called between each async step of the upload\n",
              " * process.\n",
              " * @param {string} inputId Element ID of the input file picker element.\n",
              " * @param {string} outputId Element ID of the output display.\n",
              " * @return {!Iterable<!Object>} Iterable of next steps.\n",
              " */\n",
              "function* uploadFilesStep(inputId, outputId) {\n",
              "  const inputElement = document.getElementById(inputId);\n",
              "  inputElement.disabled = false;\n",
              "\n",
              "  const outputElement = document.getElementById(outputId);\n",
              "  outputElement.innerHTML = '';\n",
              "\n",
              "  const pickedPromise = new Promise((resolve) => {\n",
              "    inputElement.addEventListener('change', (e) => {\n",
              "      resolve(e.target.files);\n",
              "    });\n",
              "  });\n",
              "\n",
              "  const cancel = document.createElement('button');\n",
              "  inputElement.parentElement.appendChild(cancel);\n",
              "  cancel.textContent = 'Cancel upload';\n",
              "  const cancelPromise = new Promise((resolve) => {\n",
              "    cancel.onclick = () => {\n",
              "      resolve(null);\n",
              "    };\n",
              "  });\n",
              "\n",
              "  // Wait for the user to pick the files.\n",
              "  const files = yield {\n",
              "    promise: Promise.race([pickedPromise, cancelPromise]),\n",
              "    response: {\n",
              "      action: 'starting',\n",
              "    }\n",
              "  };\n",
              "\n",
              "  cancel.remove();\n",
              "\n",
              "  // Disable the input element since further picks are not allowed.\n",
              "  inputElement.disabled = true;\n",
              "\n",
              "  if (!files) {\n",
              "    return {\n",
              "      response: {\n",
              "        action: 'complete',\n",
              "      }\n",
              "    };\n",
              "  }\n",
              "\n",
              "  for (const file of files) {\n",
              "    const li = document.createElement('li');\n",
              "    li.append(span(file.name, {fontWeight: 'bold'}));\n",
              "    li.append(span(\n",
              "        `(${file.type || 'n/a'}) - ${file.size} bytes, ` +\n",
              "        `last modified: ${\n",
              "            file.lastModifiedDate ? file.lastModifiedDate.toLocaleDateString() :\n",
              "                                    'n/a'} - `));\n",
              "    const percent = span('0% done');\n",
              "    li.appendChild(percent);\n",
              "\n",
              "    outputElement.appendChild(li);\n",
              "\n",
              "    const fileDataPromise = new Promise((resolve) => {\n",
              "      const reader = new FileReader();\n",
              "      reader.onload = (e) => {\n",
              "        resolve(e.target.result);\n",
              "      };\n",
              "      reader.readAsArrayBuffer(file);\n",
              "    });\n",
              "    // Wait for the data to be ready.\n",
              "    let fileData = yield {\n",
              "      promise: fileDataPromise,\n",
              "      response: {\n",
              "        action: 'continue',\n",
              "      }\n",
              "    };\n",
              "\n",
              "    // Use a chunked sending to avoid message size limits. See b/62115660.\n",
              "    let position = 0;\n",
              "    do {\n",
              "      const length = Math.min(fileData.byteLength - position, MAX_PAYLOAD_SIZE);\n",
              "      const chunk = new Uint8Array(fileData, position, length);\n",
              "      position += length;\n",
              "\n",
              "      const base64 = btoa(String.fromCharCode.apply(null, chunk));\n",
              "      yield {\n",
              "        response: {\n",
              "          action: 'append',\n",
              "          file: file.name,\n",
              "          data: base64,\n",
              "        },\n",
              "      };\n",
              "\n",
              "      let percentDone = fileData.byteLength === 0 ?\n",
              "          100 :\n",
              "          Math.round((position / fileData.byteLength) * 100);\n",
              "      percent.textContent = `${percentDone}% done`;\n",
              "\n",
              "    } while (position < fileData.byteLength);\n",
              "  }\n",
              "\n",
              "  // All done.\n",
              "  yield {\n",
              "    response: {\n",
              "      action: 'complete',\n",
              "    }\n",
              "  };\n",
              "}\n",
              "\n",
              "scope.google = scope.google || {};\n",
              "scope.google.colab = scope.google.colab || {};\n",
              "scope.google.colab._files = {\n",
              "  _uploadFiles,\n",
              "  _uploadFilesContinue,\n",
              "};\n",
              "})(self);\n",
              "</script> "
            ]
          },
          "metadata": {}
        },
        {
          "output_type": "stream",
          "name": "stdout",
          "text": [
            "Saving DATASET.zip to DATASET.zip\n"
          ]
        }
      ],
      "source": [
        "from google.colab import files\n",
        "uploaded = files.upload()  # Re-upload the ZIP file\n"
      ]
    },
    {
      "cell_type": "code",
      "execution_count": 3,
      "metadata": {
        "id": "bymghz-HrYs_"
      },
      "outputs": [],
      "source": [
        "import zipfile\n",
        "import os\n",
        "\n",
        "# Extract the uploaded ZIP file\n",
        "for filename in uploaded.keys():\n",
        "    if filename.endswith('.zip'):\n",
        "        with zipfile.ZipFile(filename, 'r') as zip_ref:\n",
        "            zip_ref.extractall('/content/dataset')  # Extract to this folder\n",
        "        os.remove(filename)  # Remove ZIP file after extraction\n"
      ]
    },
    {
      "cell_type": "code",
      "execution_count": 4,
      "metadata": {
        "colab": {
          "base_uri": "https://localhost:8080/"
        },
        "id": "P6O8tXG6rbAX",
        "outputId": "b9ea07dc-3c02-433c-f68b-a0777a01cd56"
      },
      "outputs": [
        {
          "output_type": "stream",
          "name": "stdout",
          "text": [
            "Collecting gtts\n",
            "  Downloading gTTS-2.5.4-py3-none-any.whl.metadata (4.1 kB)\n",
            "Requirement already satisfied: requests<3,>=2.27 in /usr/local/lib/python3.11/dist-packages (from gtts) (2.32.3)\n",
            "Requirement already satisfied: click<8.2,>=7.1 in /usr/local/lib/python3.11/dist-packages (from gtts) (8.1.8)\n",
            "Requirement already satisfied: charset-normalizer<4,>=2 in /usr/local/lib/python3.11/dist-packages (from requests<3,>=2.27->gtts) (3.4.1)\n",
            "Requirement already satisfied: idna<4,>=2.5 in /usr/local/lib/python3.11/dist-packages (from requests<3,>=2.27->gtts) (3.10)\n",
            "Requirement already satisfied: urllib3<3,>=1.21.1 in /usr/local/lib/python3.11/dist-packages (from requests<3,>=2.27->gtts) (2.3.0)\n",
            "Requirement already satisfied: certifi>=2017.4.17 in /usr/local/lib/python3.11/dist-packages (from requests<3,>=2.27->gtts) (2025.1.31)\n",
            "Downloading gTTS-2.5.4-py3-none-any.whl (29 kB)\n",
            "Installing collected packages: gtts\n",
            "Successfully installed gtts-2.5.4\n"
          ]
        }
      ],
      "source": [
        "!pip install gtts\n"
      ]
    },
    {
      "cell_type": "code",
      "execution_count": 5,
      "metadata": {
        "colab": {
          "base_uri": "https://localhost:8080/"
        },
        "id": "MXwxGsxLrgoZ",
        "outputId": "3b82692c-aecd-4358-afb3-d9f9db32381c"
      },
      "outputs": [
        {
          "output_type": "stream",
          "name": "stdout",
          "text": [
            "Found 21974 images belonging to 24 classes.\n",
            "Found 5481 images belonging to 24 classes.\n"
          ]
        }
      ],
      "source": [
        "import os\n",
        "import numpy as np\n",
        "import tensorflow as tf\n",
        "from tensorflow.keras.preprocessing.image import ImageDataGenerator\n",
        "\n",
        "# Define paths\n",
        "dataset_path = '/content/dataset/'  # Update path based on dataset location\n",
        "train_dir = os.path.join(dataset_path, 'Train')\n",
        "\n",
        "# Define image parameters\n",
        "IMG_SIZE = 64\n",
        "BATCH_SIZE = 32\n",
        "\n",
        "# Data Augmentation and Splitting\n",
        "datagen = ImageDataGenerator(rescale=1./255, validation_split=0.2)\n",
        "\n",
        "# Load training and validation data\n",
        "train_data = datagen.flow_from_directory(\n",
        "    train_dir,\n",
        "    target_size=(IMG_SIZE, IMG_SIZE),\n",
        "    batch_size=BATCH_SIZE,\n",
        "    class_mode='categorical',\n",
        "    subset='training'\n",
        ")\n",
        "\n",
        "val_data = datagen.flow_from_directory(\n",
        "    train_dir,\n",
        "    target_size=(IMG_SIZE, IMG_SIZE),\n",
        "    batch_size=BATCH_SIZE,\n",
        "    class_mode='categorical',\n",
        "    subset='validation'\n",
        ")\n"
      ]
    },
    {
      "cell_type": "code",
      "execution_count": 6,
      "metadata": {
        "colab": {
          "base_uri": "https://localhost:8080/"
        },
        "id": "JH6U8gEgrmMM",
        "outputId": "7276df19-bc80-436c-c262-c472b04dabb1"
      },
      "outputs": [
        {
          "output_type": "stream",
          "name": "stderr",
          "text": [
            "/usr/local/lib/python3.11/dist-packages/keras/src/layers/convolutional/base_conv.py:107: UserWarning: Do not pass an `input_shape`/`input_dim` argument to a layer. When using Sequential models, prefer using an `Input(shape)` object as the first layer in the model instead.\n",
            "  super().__init__(activity_regularizer=activity_regularizer, **kwargs)\n"
          ]
        }
      ],
      "source": [
        "from tensorflow.keras.models import Sequential\n",
        "from tensorflow.keras.layers import Conv2D, MaxPooling2D, Flatten, Dense, Dropout\n",
        "\n",
        "# Define CNN model\n",
        "model = Sequential([\n",
        "    Conv2D(32, (3,3), activation='relu', input_shape=(IMG_SIZE, IMG_SIZE, 3)),\n",
        "    MaxPooling2D(2,2),\n",
        "    Conv2D(64, (3,3), activation='relu'),\n",
        "    MaxPooling2D(2,2),\n",
        "    Flatten(),\n",
        "    Dense(128, activation='relu'),\n",
        "    Dropout(0.5),\n",
        "    Dense(len(train_data.class_indices), activation='softmax')\n",
        "])\n"
      ]
    },
    {
      "cell_type": "code",
      "execution_count": 7,
      "metadata": {
        "colab": {
          "base_uri": "https://localhost:8080/",
          "height": 385
        },
        "id": "lxEckWLgrm41",
        "outputId": "3268605b-37aa-4dd3-b3a9-ffb98e4a8a2f"
      },
      "outputs": [
        {
          "output_type": "display_data",
          "data": {
            "text/plain": [
              "\u001b[1mModel: \"sequential\"\u001b[0m\n"
            ],
            "text/html": [
              "<pre style=\"white-space:pre;overflow-x:auto;line-height:normal;font-family:Menlo,'DejaVu Sans Mono',consolas,'Courier New',monospace\"><span style=\"font-weight: bold\">Model: \"sequential\"</span>\n",
              "</pre>\n"
            ]
          },
          "metadata": {}
        },
        {
          "output_type": "display_data",
          "data": {
            "text/plain": [
              "┏━━━━━━━━━━━━━━━━━━━━━━━━━━━━━━━━━┳━━━━━━━━━━━━━━━━━━━━━━━━┳━━━━━━━━━━━━━━━┓\n",
              "┃\u001b[1m \u001b[0m\u001b[1mLayer (type)                   \u001b[0m\u001b[1m \u001b[0m┃\u001b[1m \u001b[0m\u001b[1mOutput Shape          \u001b[0m\u001b[1m \u001b[0m┃\u001b[1m \u001b[0m\u001b[1m      Param #\u001b[0m\u001b[1m \u001b[0m┃\n",
              "┡━━━━━━━━━━━━━━━━━━━━━━━━━━━━━━━━━╇━━━━━━━━━━━━━━━━━━━━━━━━╇━━━━━━━━━━━━━━━┩\n",
              "│ conv2d (\u001b[38;5;33mConv2D\u001b[0m)                 │ (\u001b[38;5;45mNone\u001b[0m, \u001b[38;5;34m62\u001b[0m, \u001b[38;5;34m62\u001b[0m, \u001b[38;5;34m32\u001b[0m)     │           \u001b[38;5;34m896\u001b[0m │\n",
              "├─────────────────────────────────┼────────────────────────┼───────────────┤\n",
              "│ max_pooling2d (\u001b[38;5;33mMaxPooling2D\u001b[0m)    │ (\u001b[38;5;45mNone\u001b[0m, \u001b[38;5;34m31\u001b[0m, \u001b[38;5;34m31\u001b[0m, \u001b[38;5;34m32\u001b[0m)     │             \u001b[38;5;34m0\u001b[0m │\n",
              "├─────────────────────────────────┼────────────────────────┼───────────────┤\n",
              "│ conv2d_1 (\u001b[38;5;33mConv2D\u001b[0m)               │ (\u001b[38;5;45mNone\u001b[0m, \u001b[38;5;34m29\u001b[0m, \u001b[38;5;34m29\u001b[0m, \u001b[38;5;34m64\u001b[0m)     │        \u001b[38;5;34m18,496\u001b[0m │\n",
              "├─────────────────────────────────┼────────────────────────┼───────────────┤\n",
              "│ max_pooling2d_1 (\u001b[38;5;33mMaxPooling2D\u001b[0m)  │ (\u001b[38;5;45mNone\u001b[0m, \u001b[38;5;34m14\u001b[0m, \u001b[38;5;34m14\u001b[0m, \u001b[38;5;34m64\u001b[0m)     │             \u001b[38;5;34m0\u001b[0m │\n",
              "├─────────────────────────────────┼────────────────────────┼───────────────┤\n",
              "│ flatten (\u001b[38;5;33mFlatten\u001b[0m)               │ (\u001b[38;5;45mNone\u001b[0m, \u001b[38;5;34m12544\u001b[0m)          │             \u001b[38;5;34m0\u001b[0m │\n",
              "├─────────────────────────────────┼────────────────────────┼───────────────┤\n",
              "│ dense (\u001b[38;5;33mDense\u001b[0m)                   │ (\u001b[38;5;45mNone\u001b[0m, \u001b[38;5;34m128\u001b[0m)            │     \u001b[38;5;34m1,605,760\u001b[0m │\n",
              "├─────────────────────────────────┼────────────────────────┼───────────────┤\n",
              "│ dropout (\u001b[38;5;33mDropout\u001b[0m)               │ (\u001b[38;5;45mNone\u001b[0m, \u001b[38;5;34m128\u001b[0m)            │             \u001b[38;5;34m0\u001b[0m │\n",
              "├─────────────────────────────────┼────────────────────────┼───────────────┤\n",
              "│ dense_1 (\u001b[38;5;33mDense\u001b[0m)                 │ (\u001b[38;5;45mNone\u001b[0m, \u001b[38;5;34m24\u001b[0m)             │         \u001b[38;5;34m3,096\u001b[0m │\n",
              "└─────────────────────────────────┴────────────────────────┴───────────────┘\n"
            ],
            "text/html": [
              "<pre style=\"white-space:pre;overflow-x:auto;line-height:normal;font-family:Menlo,'DejaVu Sans Mono',consolas,'Courier New',monospace\">┏━━━━━━━━━━━━━━━━━━━━━━━━━━━━━━━━━┳━━━━━━━━━━━━━━━━━━━━━━━━┳━━━━━━━━━━━━━━━┓\n",
              "┃<span style=\"font-weight: bold\"> Layer (type)                    </span>┃<span style=\"font-weight: bold\"> Output Shape           </span>┃<span style=\"font-weight: bold\">       Param # </span>┃\n",
              "┡━━━━━━━━━━━━━━━━━━━━━━━━━━━━━━━━━╇━━━━━━━━━━━━━━━━━━━━━━━━╇━━━━━━━━━━━━━━━┩\n",
              "│ conv2d (<span style=\"color: #0087ff; text-decoration-color: #0087ff\">Conv2D</span>)                 │ (<span style=\"color: #00d7ff; text-decoration-color: #00d7ff\">None</span>, <span style=\"color: #00af00; text-decoration-color: #00af00\">62</span>, <span style=\"color: #00af00; text-decoration-color: #00af00\">62</span>, <span style=\"color: #00af00; text-decoration-color: #00af00\">32</span>)     │           <span style=\"color: #00af00; text-decoration-color: #00af00\">896</span> │\n",
              "├─────────────────────────────────┼────────────────────────┼───────────────┤\n",
              "│ max_pooling2d (<span style=\"color: #0087ff; text-decoration-color: #0087ff\">MaxPooling2D</span>)    │ (<span style=\"color: #00d7ff; text-decoration-color: #00d7ff\">None</span>, <span style=\"color: #00af00; text-decoration-color: #00af00\">31</span>, <span style=\"color: #00af00; text-decoration-color: #00af00\">31</span>, <span style=\"color: #00af00; text-decoration-color: #00af00\">32</span>)     │             <span style=\"color: #00af00; text-decoration-color: #00af00\">0</span> │\n",
              "├─────────────────────────────────┼────────────────────────┼───────────────┤\n",
              "│ conv2d_1 (<span style=\"color: #0087ff; text-decoration-color: #0087ff\">Conv2D</span>)               │ (<span style=\"color: #00d7ff; text-decoration-color: #00d7ff\">None</span>, <span style=\"color: #00af00; text-decoration-color: #00af00\">29</span>, <span style=\"color: #00af00; text-decoration-color: #00af00\">29</span>, <span style=\"color: #00af00; text-decoration-color: #00af00\">64</span>)     │        <span style=\"color: #00af00; text-decoration-color: #00af00\">18,496</span> │\n",
              "├─────────────────────────────────┼────────────────────────┼───────────────┤\n",
              "│ max_pooling2d_1 (<span style=\"color: #0087ff; text-decoration-color: #0087ff\">MaxPooling2D</span>)  │ (<span style=\"color: #00d7ff; text-decoration-color: #00d7ff\">None</span>, <span style=\"color: #00af00; text-decoration-color: #00af00\">14</span>, <span style=\"color: #00af00; text-decoration-color: #00af00\">14</span>, <span style=\"color: #00af00; text-decoration-color: #00af00\">64</span>)     │             <span style=\"color: #00af00; text-decoration-color: #00af00\">0</span> │\n",
              "├─────────────────────────────────┼────────────────────────┼───────────────┤\n",
              "│ flatten (<span style=\"color: #0087ff; text-decoration-color: #0087ff\">Flatten</span>)               │ (<span style=\"color: #00d7ff; text-decoration-color: #00d7ff\">None</span>, <span style=\"color: #00af00; text-decoration-color: #00af00\">12544</span>)          │             <span style=\"color: #00af00; text-decoration-color: #00af00\">0</span> │\n",
              "├─────────────────────────────────┼────────────────────────┼───────────────┤\n",
              "│ dense (<span style=\"color: #0087ff; text-decoration-color: #0087ff\">Dense</span>)                   │ (<span style=\"color: #00d7ff; text-decoration-color: #00d7ff\">None</span>, <span style=\"color: #00af00; text-decoration-color: #00af00\">128</span>)            │     <span style=\"color: #00af00; text-decoration-color: #00af00\">1,605,760</span> │\n",
              "├─────────────────────────────────┼────────────────────────┼───────────────┤\n",
              "│ dropout (<span style=\"color: #0087ff; text-decoration-color: #0087ff\">Dropout</span>)               │ (<span style=\"color: #00d7ff; text-decoration-color: #00d7ff\">None</span>, <span style=\"color: #00af00; text-decoration-color: #00af00\">128</span>)            │             <span style=\"color: #00af00; text-decoration-color: #00af00\">0</span> │\n",
              "├─────────────────────────────────┼────────────────────────┼───────────────┤\n",
              "│ dense_1 (<span style=\"color: #0087ff; text-decoration-color: #0087ff\">Dense</span>)                 │ (<span style=\"color: #00d7ff; text-decoration-color: #00d7ff\">None</span>, <span style=\"color: #00af00; text-decoration-color: #00af00\">24</span>)             │         <span style=\"color: #00af00; text-decoration-color: #00af00\">3,096</span> │\n",
              "└─────────────────────────────────┴────────────────────────┴───────────────┘\n",
              "</pre>\n"
            ]
          },
          "metadata": {}
        },
        {
          "output_type": "display_data",
          "data": {
            "text/plain": [
              "\u001b[1m Total params: \u001b[0m\u001b[38;5;34m1,628,248\u001b[0m (6.21 MB)\n"
            ],
            "text/html": [
              "<pre style=\"white-space:pre;overflow-x:auto;line-height:normal;font-family:Menlo,'DejaVu Sans Mono',consolas,'Courier New',monospace\"><span style=\"font-weight: bold\"> Total params: </span><span style=\"color: #00af00; text-decoration-color: #00af00\">1,628,248</span> (6.21 MB)\n",
              "</pre>\n"
            ]
          },
          "metadata": {}
        },
        {
          "output_type": "display_data",
          "data": {
            "text/plain": [
              "\u001b[1m Trainable params: \u001b[0m\u001b[38;5;34m1,628,248\u001b[0m (6.21 MB)\n"
            ],
            "text/html": [
              "<pre style=\"white-space:pre;overflow-x:auto;line-height:normal;font-family:Menlo,'DejaVu Sans Mono',consolas,'Courier New',monospace\"><span style=\"font-weight: bold\"> Trainable params: </span><span style=\"color: #00af00; text-decoration-color: #00af00\">1,628,248</span> (6.21 MB)\n",
              "</pre>\n"
            ]
          },
          "metadata": {}
        },
        {
          "output_type": "display_data",
          "data": {
            "text/plain": [
              "\u001b[1m Non-trainable params: \u001b[0m\u001b[38;5;34m0\u001b[0m (0.00 B)\n"
            ],
            "text/html": [
              "<pre style=\"white-space:pre;overflow-x:auto;line-height:normal;font-family:Menlo,'DejaVu Sans Mono',consolas,'Courier New',monospace\"><span style=\"font-weight: bold\"> Non-trainable params: </span><span style=\"color: #00af00; text-decoration-color: #00af00\">0</span> (0.00 B)\n",
              "</pre>\n"
            ]
          },
          "metadata": {}
        }
      ],
      "source": [
        "model.summary()"
      ]
    },
    {
      "cell_type": "code",
      "execution_count": 8,
      "metadata": {
        "colab": {
          "base_uri": "https://localhost:8080/"
        },
        "id": "tiXqrYQJrpfZ",
        "outputId": "8599e6b8-0e0c-41c9-caf9-eab16c3371e6"
      },
      "outputs": [
        {
          "output_type": "stream",
          "name": "stdout",
          "text": [
            "Epoch 1/10\n"
          ]
        },
        {
          "output_type": "stream",
          "name": "stderr",
          "text": [
            "/usr/local/lib/python3.11/dist-packages/keras/src/trainers/data_adapters/py_dataset_adapter.py:121: UserWarning: Your `PyDataset` class should call `super().__init__(**kwargs)` in its constructor. `**kwargs` can include `workers`, `use_multiprocessing`, `max_queue_size`. Do not pass these arguments to `fit()`, as they will be ignored.\n",
            "  self._warn_if_super_not_called()\n"
          ]
        },
        {
          "output_type": "stream",
          "name": "stdout",
          "text": [
            "\u001b[1m687/687\u001b[0m \u001b[32m━━━━━━━━━━━━━━━━━━━━\u001b[0m\u001b[37m\u001b[0m \u001b[1m153s\u001b[0m 216ms/step - accuracy: 0.3743 - loss: 2.0885 - val_accuracy: 0.9770 - val_loss: 0.1428\n",
            "Epoch 2/10\n",
            "\u001b[1m687/687\u001b[0m \u001b[32m━━━━━━━━━━━━━━━━━━━━\u001b[0m\u001b[37m\u001b[0m \u001b[1m187s\u001b[0m 195ms/step - accuracy: 0.8700 - loss: 0.3788 - val_accuracy: 0.9973 - val_loss: 0.0226\n",
            "Epoch 3/10\n",
            "\u001b[1m687/687\u001b[0m \u001b[32m━━━━━━━━━━━━━━━━━━━━\u001b[0m\u001b[37m\u001b[0m \u001b[1m132s\u001b[0m 193ms/step - accuracy: 0.9254 - loss: 0.2150 - val_accuracy: 0.9996 - val_loss: 0.0051\n",
            "Epoch 4/10\n",
            "\u001b[1m687/687\u001b[0m \u001b[32m━━━━━━━━━━━━━━━━━━━━\u001b[0m\u001b[37m\u001b[0m \u001b[1m131s\u001b[0m 191ms/step - accuracy: 0.9424 - loss: 0.1576 - val_accuracy: 0.9987 - val_loss: 0.0089\n",
            "Epoch 5/10\n",
            "\u001b[1m687/687\u001b[0m \u001b[32m━━━━━━━━━━━━━━━━━━━━\u001b[0m\u001b[37m\u001b[0m \u001b[1m133s\u001b[0m 193ms/step - accuracy: 0.9568 - loss: 0.1181 - val_accuracy: 1.0000 - val_loss: 0.0022\n",
            "Epoch 6/10\n",
            "\u001b[1m687/687\u001b[0m \u001b[32m━━━━━━━━━━━━━━━━━━━━\u001b[0m\u001b[37m\u001b[0m \u001b[1m132s\u001b[0m 192ms/step - accuracy: 0.9585 - loss: 0.1150 - val_accuracy: 0.9998 - val_loss: 0.0017\n",
            "Epoch 7/10\n",
            "\u001b[1m687/687\u001b[0m \u001b[32m━━━━━━━━━━━━━━━━━━━━\u001b[0m\u001b[37m\u001b[0m \u001b[1m131s\u001b[0m 191ms/step - accuracy: 0.9667 - loss: 0.0924 - val_accuracy: 1.0000 - val_loss: 0.0011\n",
            "Epoch 8/10\n",
            "\u001b[1m687/687\u001b[0m \u001b[32m━━━━━━━━━━━━━━━━━━━━\u001b[0m\u001b[37m\u001b[0m \u001b[1m131s\u001b[0m 191ms/step - accuracy: 0.9705 - loss: 0.0815 - val_accuracy: 1.0000 - val_loss: 5.9591e-04\n",
            "Epoch 9/10\n",
            "\u001b[1m687/687\u001b[0m \u001b[32m━━━━━━━━━━━━━━━━━━━━\u001b[0m\u001b[37m\u001b[0m \u001b[1m130s\u001b[0m 190ms/step - accuracy: 0.9753 - loss: 0.0743 - val_accuracy: 0.9998 - val_loss: 9.6184e-04\n",
            "Epoch 10/10\n",
            "\u001b[1m687/687\u001b[0m \u001b[32m━━━━━━━━━━━━━━━━━━━━\u001b[0m\u001b[37m\u001b[0m \u001b[1m142s\u001b[0m 191ms/step - accuracy: 0.9745 - loss: 0.0677 - val_accuracy: 1.0000 - val_loss: 2.9759e-04\n"
          ]
        }
      ],
      "source": [
        "# Compile model\n",
        "model.compile(optimizer='adam', loss='categorical_crossentropy', metrics=['accuracy'])\n",
        "\n",
        "# Train model\n",
        "epochs = 10\n",
        "model.fit(train_data, validation_data=val_data, epochs=epochs)\n",
        "\n",
        "# Save model in recommended format\n",
        "model.save(\"sign_language_model.keras\")\n"
      ]
    },
    {
      "cell_type": "code",
      "execution_count": 9,
      "metadata": {
        "colab": {
          "base_uri": "https://localhost:8080/",
          "height": 472
        },
        "id": "bbwaq4-PrsMh",
        "outputId": "1f6d0135-9e9e-41b0-dc9e-c788e0df9575"
      },
      "outputs": [
        {
          "output_type": "display_data",
          "data": {
            "text/plain": [
              "<Figure size 640x480 with 1 Axes>"
            ],
            "image/png": "[encoded data removed]"
          },
          "metadata": {}
        }
      ],
      "source": [
        "import matplotlib.pyplot as plt\n",
        "\n",
        "# Get training history\n",
        "history_dict = model.history.history\n",
        "\n",
        "# Plot accuracy\n",
        "plt.plot(history_dict['accuracy'], label='Training Accuracy')\n",
        "plt.plot(history_dict['val_accuracy'], label='Validation Accuracy')\n",
        "plt.xlabel('Epochs')\n",
        "plt.ylabel('Accuracy')\n",
        "plt.title('Model Accuracy Over Epochs')\n",
        "plt.legend()\n",
        "plt.show()\n"
      ]
    },
    {
      "cell_type": "code",
      "execution_count": 10,
      "metadata": {
        "colab": {
          "base_uri": "https://localhost:8080/",
          "height": 472
        },
        "id": "VMaWzhKJryQH",
        "outputId": "3e6bf8d2-4d85-409f-a291-0c0849a39227"
      },
      "outputs": [
        {
          "output_type": "display_data",
          "data": {
            "text/plain": [
              "<Figure size 640x480 with 1 Axes>"
            ],
            "image/png": "[encoded data removed]"
          },
          "metadata": {}
        }
      ],
      "source": [
        "# Plot loss\n",
        "plt.plot(history_dict['loss'], label='Training Loss')\n",
        "plt.plot(history_dict['val_loss'], label='Validation Loss')\n",
        "plt.xlabel('Epochs')\n",
        "plt.ylabel('Loss')\n",
        "plt.title('Model Loss Over Epochs')\n",
        "plt.legend()\n",
        "plt.show()"
      ]
    },
    {
      "cell_type": "code",
      "execution_count": 11,
      "metadata": {
        "colab": {
          "base_uri": "https://localhost:8080/"
        },
        "id": "eu9tySFnr0K8",
        "outputId": "3d8ed68c-fe9a-4d60-92a4-92752dca9ecc"
      },
      "outputs": [
        {
          "output_type": "stream",
          "name": "stdout",
          "text": [
            "\u001b[1m172/172\u001b[0m \u001b[32m━━━━━━━━━━━━━━━━━━━━\u001b[0m\u001b[37m\u001b[0m \u001b[1m9s\u001b[0m 50ms/step - accuracy: 1.0000 - loss: 3.1226e-04\n",
            "Accuracy before fine-tuning: 1.0\n"
          ]
        }
      ],
      "source": [
        "_, accuracy_before = model.evaluate(val_data)\n",
        "print(f\"Accuracy before fine-tuning: {accuracy_before}\")"
      ]
    },
    {
      "cell_type": "code",
      "execution_count": 12,
      "metadata": {
        "colab": {
          "base_uri": "https://localhost:8080/"
        },
        "id": "9b0e-rmOzh2M",
        "outputId": "366a7ea5-befe-49d3-9649-6ecb52a17d62"
      },
      "outputs": [
        {
          "output_type": "stream",
          "name": "stdout",
          "text": [
            "Collecting keras-tuner\n",
            "  Downloading keras_tuner-1.4.7-py3-none-any.whl.metadata (5.4 kB)\n",
            "Requirement already satisfied: keras in /usr/local/lib/python3.11/dist-packages (from keras-tuner) (3.8.0)\n",
            "Requirement already satisfied: packaging in /usr/local/lib/python3.11/dist-packages (from keras-tuner) (24.2)\n",
            "Requirement already satisfied: requests in /usr/local/lib/python3.11/dist-packages (from keras-tuner) (2.32.3)\n",
            "Collecting kt-legacy (from keras-tuner)\n",
            "  Downloading kt_legacy-1.0.5-py3-none-any.whl.metadata (221 bytes)\n",
            "Requirement already satisfied: absl-py in /usr/local/lib/python3.11/dist-packages (from keras->keras-tuner) (1.4.0)\n",
            "Requirement already satisfied: numpy in /usr/local/lib/python3.11/dist-packages (from keras->keras-tuner) (2.0.2)\n",
            "Requirement already satisfied: rich in /usr/local/lib/python3.11/dist-packages (from keras->keras-tuner) (13.9.4)\n",
            "Requirement already satisfied: namex in /usr/local/lib/python3.11/dist-packages (from keras->keras-tuner) (0.0.8)\n",
            "Requirement already satisfied: h5py in /usr/local/lib/python3.11/dist-packages (from keras->keras-tuner) (3.13.0)\n",
            "Requirement already satisfied: optree in /usr/local/lib/python3.11/dist-packages (from keras->keras-tuner) (0.15.0)\n",
            "Requirement already satisfied: ml-dtypes in /usr/local/lib/python3.11/dist-packages (from keras->keras-tuner) (0.4.1)\n",
            "Requirement already satisfied: charset-normalizer<4,>=2 in /usr/local/lib/python3.11/dist-packages (from requests->keras-tuner) (3.4.1)\n",
            "Requirement already satisfied: idna<4,>=2.5 in /usr/local/lib/python3.11/dist-packages (from requests->keras-tuner) (3.10)\n",
            "Requirement already satisfied: urllib3<3,>=1.21.1 in /usr/local/lib/python3.11/dist-packages (from requests->keras-tuner) (2.3.0)\n",
            "Requirement already satisfied: certifi>=2017.4.17 in /usr/local/lib/python3.11/dist-packages (from requests->keras-tuner) (2025.1.31)\n",
            "Requirement already satisfied: typing-extensions>=4.5.0 in /usr/local/lib/python3.11/dist-packages (from optree->keras->keras-tuner) (4.13.1)\n",
            "Requirement already satisfied: markdown-it-py>=2.2.0 in /usr/local/lib/python3.11/dist-packages (from rich->keras->keras-tuner) (3.0.0)\n",
            "Requirement already satisfied: pygments<3.0.0,>=2.13.0 in /usr/local/lib/python3.11/dist-packages (from rich->keras->keras-tuner) (2.18.0)\n",
            "Requirement already satisfied: mdurl~=0.1 in /usr/local/lib/python3.11/dist-packages (from markdown-it-py>=2.2.0->rich->keras->keras-tuner) (0.1.2)\n",
            "Downloading keras_tuner-1.4.7-py3-none-any.whl (129 kB)\n",
            "\u001b[2K   \u001b[90m━━━━━━━━━━━━━━━━━━━━━━━━━━━━━━━━━━━━━━━━\u001b[0m \u001b[32m129.1/129.1 kB\u001b[0m \u001b[31m2.6 MB/s\u001b[0m eta \u001b[36m0:00:00\u001b[0m\n",
            "\u001b[?25hDownloading kt_legacy-1.0.5-py3-none-any.whl (9.6 kB)\n",
            "Installing collected packages: kt-legacy, keras-tuner\n",
            "Successfully installed keras-tuner-1.4.7 kt-legacy-1.0.5\n"
          ]
        }
      ],
      "source": [
        "!pip install keras-tuner\n"
      ]
    },
    {
      "cell_type": "code",
      "execution_count": 13,
      "metadata": {
        "id": "f1GIKsedr9xQ"
      },
      "outputs": [],
      "source": [
        "import keras_tuner as kt\n",
        "import tensorflow as tf\n",
        "from tensorflow.keras.models import Sequential\n",
        "from tensorflow.keras.layers import Conv2D, MaxPooling2D, Flatten, Dense, Dropout\n",
        "\n",
        "# Define image parameters\n",
        "IMG_SIZE = 64\n",
        "\n",
        "# Function to build and tune the CNN model\n",
        "def build_model(hp):\n",
        "    model = Sequential()\n",
        "    model.add(Conv2D(filters=hp.Int('conv_1_filter', min_value=32, max_value=128, step=32),\n",
        "                     kernel_size=hp.Choice('conv_1_kernel', values=[3, 5]),\n",
        "                     activation='relu',\n",
        "                     input_shape=(IMG_SIZE, IMG_SIZE, 3)))\n",
        "    model.add(MaxPooling2D(pool_size=(2, 2)))\n",
        "\n",
        "    model.add(Conv2D(filters=hp.Int('conv_2_filter', min_value=32, max_value=64, step=32),\n",
        "                     kernel_size=hp.Choice('conv_2_kernel', values=[3, 5]),\n",
        "                     activation='relu'))\n",
        "    model.add(MaxPooling2D(pool_size=(2, 2)))\n",
        "\n",
        "    model.add(Flatten())\n",
        "    model.add(Dense(units=hp.Int('dense_1_units', min_value=32, max_value=128, step=32),\n",
        "                    activation='relu'))\n",
        "    model.add(Dropout(0.5))\n",
        "    model.add(Dense(24, activation='softmax'))  # Assuming 24 classes (A-Z excluding J and Z)\n",
        "\n",
        "    model.compile(optimizer=tf.keras.optimizers.Adam(hp.Choice('learning_rate', values=[1e-2, 1e-3, 1e-4])),\n",
        "                  loss='categorical_crossentropy',\n",
        "                  metrics=['accuracy'])\n",
        "    return model\n"
      ]
    },
    {
      "cell_type": "code",
      "execution_count": 14,
      "metadata": {
        "id": "47VS7iml1XYN"
      },
      "outputs": [],
      "source": [
        "import keras_tuner as kt\n",
        "\n",
        "# Define Hyperparameter Tuning\n",
        "tuner = kt.RandomSearch(\n",
        "    build_model,  # Function to build the CNN model\n",
        "    objective='val_accuracy',  # Optimize for highest validation accuracy\n",
        "    max_trials=3,  # Reduced from 10 → Faster tuning\n",
        "    executions_per_trial=1,  # Run each trial once\n",
        "    directory='hyperparameter_tuning',\n",
        "    project_name='cnn_sign_language_tuning'\n",
        ")\n"
      ]
    },
    {
      "cell_type": "code",
      "execution_count": 15,
      "metadata": {
        "id": "YfTNyIjDsFug"
      },
      "outputs": [],
      "source": [
        "# Early stopping to prevent overfitting\n",
        "stop_early = tf.keras.callbacks.EarlyStopping(monitor='val_loss', patience=5, restore_best_weights=True)\n"
      ]
    },
    {
      "cell_type": "code",
      "execution_count": 16,
      "metadata": {
        "colab": {
          "base_uri": "https://localhost:8080/"
        },
        "id": "I2hyDcgdHx5m",
        "outputId": "671b6894-6ea5-429c-847c-e39a2d3964d8"
      },
      "outputs": [
        {
          "output_type": "stream",
          "name": "stdout",
          "text": [
            "['BATCH_SIZE', 'Conv2D', 'Dense', 'Dropout', 'Flatten', 'IMG_SIZE', 'ImageDataGenerator', 'In', 'MaxPooling2D', 'Out', 'Sequential', '_', '__', '___', '__builtin__', '__builtins__', '__doc__', '__loader__', '__name__', '__package__', '__spec__', '_dh', '_exit_code', '_i', '_i1', '_i10', '_i11', '_i12', '_i13', '_i14', '_i15', '_i16', '_i2', '_i3', '_i4', '_i5', '_i6', '_i7', '_i8', '_i9', '_ih', '_ii', '_iii', '_oh', 'accuracy_before', 'build_model', 'datagen', 'dataset_path', 'epochs', 'exit', 'filename', 'files', 'get_ipython', 'history_dict', 'kt', 'model', 'np', 'os', 'plt', 'quit', 'stop_early', 'tf', 'train_data', 'train_dir', 'tuner', 'uploaded', 'val_data', 'zip_ref', 'zipfile']\n"
          ]
        }
      ],
      "source": [
        "print(dir())  # Lists all defined variables\n"
      ]
    },
    {
      "cell_type": "code",
      "execution_count": 17,
      "metadata": {
        "id": "ex_V80_6G7sp"
      },
      "outputs": [],
      "source": [
        "import tensorflow as tf\n",
        "\n",
        "# Define Early Stopping\n",
        "stop_early = tf.keras.callbacks.EarlyStopping(\n",
        "    monitor='val_accuracy',  # Stop if validation accuracy does not improve\n",
        "    patience=3,  # Wait 3 epochs before stopping\n",
        "    mode='max'  # Maximizing validation accuracy\n",
        ")\n"
      ]
    },
    {
      "cell_type": "code",
      "execution_count": 18,
      "metadata": {
        "id": "EuVs4kUtbCoJ",
        "colab": {
          "base_uri": "https://localhost:8080/"
        },
        "outputId": "2fab25f4-19c7-4c71-ed1e-7287a4fa9beb"
      },
      "outputs": [
        {
          "output_type": "stream",
          "name": "stdout",
          "text": [
            "Trial 3 Complete [00h 17m 36s]\n",
            "val_accuracy: 0.047071702778339386\n",
            "\n",
            "Best val_accuracy So Far: 0.8981937766075134\n",
            "Total elapsed time: 01h 18m 27s\n"
          ]
        }
      ],
      "source": [
        "tuner.search(\n",
        "    train_data,\n",
        "    epochs=5,  # Train for max 5 epochs\n",
        "    validation_data=val_data,\n",
        "    callbacks=[stop_early]  # Stop if accuracy doesn't improve\n",
        ")\n"
      ]
    },
    {
      "cell_type": "code",
      "execution_count": 19,
      "metadata": {
        "id": "JZ2Dl7b2sh5P"
      },
      "outputs": [],
      "source": [
        "\n",
        "# Retrieve the best hyperparameters\n",
        "best_hps = tuner.get_best_hyperparameters(num_trials=1)[0]"
      ]
    },
    {
      "cell_type": "code",
      "execution_count": 20,
      "metadata": {
        "id": "WwP-8FhSsu2d",
        "colab": {
          "base_uri": "https://localhost:8080/"
        },
        "outputId": "4a1f7958-04c1-4ea9-c054-2f40c043ec7d"
      },
      "outputs": [
        {
          "output_type": "stream",
          "name": "stdout",
          "text": [
            "Epoch 1/8\n",
            "\u001b[1m687/687\u001b[0m \u001b[32m━━━━━━━━━━━━━━━━━━━━\u001b[0m\u001b[37m\u001b[0m \u001b[1m164s\u001b[0m 236ms/step - accuracy: 0.0874 - loss: 3.0630 - val_accuracy: 0.5083 - val_loss: 2.1386\n",
            "Epoch 2/8\n",
            "\u001b[1m687/687\u001b[0m \u001b[32m━━━━━━━━━━━━━━━━━━━━\u001b[0m\u001b[37m\u001b[0m \u001b[1m184s\u001b[0m 210ms/step - accuracy: 0.2985 - loss: 2.2778 - val_accuracy: 0.7440 - val_loss: 1.3133\n",
            "Epoch 3/8\n",
            "\u001b[1m687/687\u001b[0m \u001b[32m━━━━━━━━━━━━━━━━━━━━\u001b[0m\u001b[37m\u001b[0m \u001b[1m144s\u001b[0m 210ms/step - accuracy: 0.4125 - loss: 1.8359 - val_accuracy: 0.8181 - val_loss: 0.9478\n",
            "Epoch 4/8\n",
            "\u001b[1m687/687\u001b[0m \u001b[32m━━━━━━━━━━━━━━━━━━━━\u001b[0m\u001b[37m\u001b[0m \u001b[1m145s\u001b[0m 211ms/step - accuracy: 0.4813 - loss: 1.5472 - val_accuracy: 0.8792 - val_loss: 0.6810\n",
            "Epoch 5/8\n",
            "\u001b[1m687/687\u001b[0m \u001b[32m━━━━━━━━━━━━━━━━━━━━\u001b[0m\u001b[37m\u001b[0m \u001b[1m144s\u001b[0m 210ms/step - accuracy: 0.5387 - loss: 1.3584 - val_accuracy: 0.9183 - val_loss: 0.5358\n",
            "Epoch 6/8\n",
            "\u001b[1m687/687\u001b[0m \u001b[32m━━━━━━━━━━━━━━━━━━━━\u001b[0m\u001b[37m\u001b[0m \u001b[1m144s\u001b[0m 210ms/step - accuracy: 0.5708 - loss: 1.2326 - val_accuracy: 0.9394 - val_loss: 0.3754\n",
            "Epoch 7/8\n",
            "\u001b[1m687/687\u001b[0m \u001b[32m━━━━━━━━━━━━━━━━━━━━\u001b[0m\u001b[37m\u001b[0m \u001b[1m202s\u001b[0m 211ms/step - accuracy: 0.6087 - loss: 1.1295 - val_accuracy: 0.9558 - val_loss: 0.3190\n",
            "Epoch 8/8\n",
            "\u001b[1m687/687\u001b[0m \u001b[32m━━━━━━━━━━━━━━━━━━━━\u001b[0m\u001b[37m\u001b[0m \u001b[1m202s\u001b[0m 211ms/step - accuracy: 0.6284 - loss: 1.0265 - val_accuracy: 0.9721 - val_loss: 0.2706\n"
          ]
        }
      ],
      "source": [
        "# Build and train the best model\n",
        "best_model = tuner.hypermodel.build(best_hps)\n",
        "history = best_model.fit(train_data, epochs=8, validation_data=val_data)"
      ]
    },
    {
      "cell_type": "code",
      "execution_count": 21,
      "metadata": {
        "id": "DqSqGFzt1z8u",
        "colab": {
          "base_uri": "https://localhost:8080/"
        },
        "outputId": "f583b2c7-0a52-4f05-c87e-792464fa3bfe"
      },
      "outputs": [
        {
          "output_type": "stream",
          "name": "stdout",
          "text": [
            "\u001b[1m172/172\u001b[0m \u001b[32m━━━━━━━━━━━━━━━━━━━━\u001b[0m\u001b[37m\u001b[0m \u001b[1m10s\u001b[0m 59ms/step - accuracy: 0.9717 - loss: 0.2686\n",
            "Model Evaluation - Loss: 0.2706, Accuracy: 97.2085%\n"
          ]
        }
      ],
      "source": [
        "# Evaluate model performance after fine-tuning\n",
        "loss_after, accuracy_after = best_model.evaluate(val_data)\n",
        "print(f\"Model Evaluation - Loss: {loss_after:.4f}, Accuracy: {accuracy_after:.4%}\")\n"
      ]
    },
    {
      "cell_type": "code",
      "source": [
        "\n",
        "import numpy as np\n",
        "import seaborn as sns\n",
        "from sklearn.metrics import confusion_matrix, classification_report\n",
        "# Function to test the model on a new image\n",
        "def test_model(image_path):\n",
        "    from tensorflow.keras.preprocessing import image\n",
        "    img = image.load_img(image_path, target_size=(IMG_SIZE, IMG_SIZE))\n",
        "    img_array = image.img_to_array(img) / 255.0\n",
        "    img_array = np.expand_dims(img_array, axis=0)\n",
        "\n",
        "    prediction = best_model.predict(img_array)\n",
        "    class_idx = np.argmax(prediction)\n",
        "    class_label = list(train_data.class_indices.keys())[class_idx]\n",
        "    print(f\"Predicted Class: {class_label}\")\n",
        "    return class_label"
      ],
      "metadata": {
        "id": "91kPpTpZ0YrK"
      },
      "execution_count": 22,
      "outputs": []
    },
    {
      "cell_type": "code",
      "execution_count": 23,
      "metadata": {
        "id": "DmLCQiOa3Zet"
      },
      "outputs": [],
      "source": [
        "# Function to evaluate the model with confusion matrix and classification report\n",
        "def evaluate_model():\n",
        "    y_true = test_data.classes  # Actual labels\n",
        "    y_pred = np.argmax(best_model.predict(test_data), axis=1)  # Predicted labels\n",
        "\n",
        "    # Confusion Matrix\n",
        "    cm = confusion_matrix(y_true, y_pred)\n",
        "    plt.figure(figsize=(10, 8))\n",
        "    sns.heatmap(cm, annot=True, fmt=\"d\", cmap=\"Blues\",\n",
        "                xticklabels=test_data.class_indices.keys(),\n",
        "                yticklabels=test_data.class_indices.keys())\n",
        "    plt.xlabel('Predicted')\n",
        "    plt.ylabel('Actual')\n",
        "    plt.title('Confusion Matrix')\n",
        "    plt.show()\n",
        "\n",
        "    # Classification Report\n",
        "    print(\"Classification Report:\")\n",
        "    print(classification_report(y_true, y_pred, target_names=test_data.class_indices.keys()))"
      ]
    },
    {
      "cell_type": "code",
      "execution_count": 24,
      "metadata": {
        "id": "E1-pyWDxlmO4"
      },
      "outputs": [],
      "source": [
        "from PIL import Image\n"
      ]
    },
    {
      "cell_type": "code",
      "source": [
        "\n",
        "import numpy as np\n",
        "import seaborn as sns\n",
        "from sklearn.metrics import confusion_matrix, classification_report\n",
        "# Function to test the model on a new image\n",
        "def test_model(image_path):\n",
        "    from tensorflow.keras.preprocessing import image\n",
        "    img = image.load_img(image_path, target_size=(IMG_SIZE, IMG_SIZE))\n",
        "    img_array = image.img_to_array(img) / 255.0\n",
        "    img_array = np.expand_dims(img_array, axis=0)\n",
        "\n",
        "    prediction = best_model.predict(img_array)\n",
        "    class_idx = np.argmax(prediction)\n",
        "    class_label = list(train_data.class_indices.keys())[class_idx]\n",
        "    print(f\"Predicted Class: {class_label}\")\n",
        "    return class_label"
      ],
      "metadata": {
        "id": "-s8eGA7C0oiF"
      },
      "execution_count": 25,
      "outputs": []
    },
    {
      "cell_type": "code",
      "execution_count": 26,
      "metadata": {
        "id": "g08hDpaDlpGs"
      },
      "outputs": [],
      "source": [
        "from PIL import Image  # ✅ Fix: Import the missing module\n",
        "\n",
        "def predict_sign_language():\n",
        "    for img_name in uploaded.keys():\n",
        "        img_path = img_name\n",
        "        img = Image.open(img_path).convert('RGB')  # ✅ Now Image is recognized\n",
        "        img = img.resize((IMG_SIZE, IMG_SIZE))\n",
        "        img_array = np.array(img) / 255.0\n"
      ]
    },
    {
      "cell_type": "code",
      "execution_count": 27,
      "metadata": {
        "id": "hgDNZyfVsvc-",
        "colab": {
          "base_uri": "https://localhost:8080/",
          "height": 186
        },
        "outputId": "5e711005-3ae6-4f74-ac33-1368493af161"
      },
      "outputs": [
        {
          "output_type": "stream",
          "name": "stdout",
          "text": [
            "Found 21974 images belonging to 24 classes.\n"
          ]
        },
        {
          "output_type": "display_data",
          "data": {
            "text/plain": [
              "<IPython.core.display.HTML object>"
            ],
            "text/html": [
              "\n",
              "     <input type=\"file\" id=\"files-cf69023e-a938-415b-a1df-510c6ddad634\" name=\"files[]\" multiple disabled\n",
              "        style=\"border:none\" />\n",
              "     <output id=\"result-cf69023e-a938-415b-a1df-510c6ddad634\">\n",
              "      Upload widget is only available when the cell has been executed in the\n",
              "      current browser session. Please rerun this cell to enable.\n",
              "      </output>\n",
              "      <script>// Copyright 2017 Google LLC\n",
              "//\n",
              "// Licensed under the Apache License, Version 2.0 (the \"License\");\n",
              "// you may not use this file except in compliance with the License.\n",
              "// You may obtain a copy of the License at\n",
              "//\n",
              "//      http://www.apache.org/licenses/LICENSE-2.0\n",
              "//\n",
              "// Unless required by applicable law or agreed to in writing, software\n",
              "// distributed under the License is distributed on an \"AS IS\" BASIS,\n",
              "// WITHOUT WARRANTIES OR CONDITIONS OF ANY KIND, either express or implied.\n",
              "// See the License for the specific language governing permissions and\n",
              "// limitations under the License.\n",
              "\n",
              "/**\n",
              " * @fileoverview Helpers for google.colab Python module.\n",
              " */\n",
              "(function(scope) {\n",
              "function span(text, styleAttributes = {}) {\n",
              "  const element = document.createElement('span');\n",
              "  element.textContent = text;\n",
              "  for (const key of Object.keys(styleAttributes)) {\n",
              "    element.style[key] = styleAttributes[key];\n",
              "  }\n",
              "  return element;\n",
              "}\n",
              "\n",
              "// Max number of bytes which will be uploaded at a time.\n",
              "const MAX_PAYLOAD_SIZE = 100 * 1024;\n",
              "\n",
              "function _uploadFiles(inputId, outputId) {\n",
              "  const steps = uploadFilesStep(inputId, outputId);\n",
              "  const outputElement = document.getElementById(outputId);\n",
              "  // Cache steps on the outputElement to make it available for the next call\n",
              "  // to uploadFilesContinue from Python.\n",
              "  outputElement.steps = steps;\n",
              "\n",
              "  return _uploadFilesContinue(outputId);\n",
              "}\n",
              "\n",
              "// This is roughly an async generator (not supported in the browser yet),\n",
              "// where there are multiple asynchronous steps and the Python side is going\n",
              "// to poll for completion of each step.\n",
              "// This uses a Promise to block the python side on completion of each step,\n",
              "// then passes the result of the previous step as the input to the next step.\n",
              "function _uploadFilesContinue(outputId) {\n",
              "  const outputElement = document.getElementById(outputId);\n",
              "  const steps = outputElement.steps;\n",
              "\n",
              "  const next = steps.next(outputElement.lastPromiseValue);\n",
              "  return Promise.resolve(next.value.promise).then((value) => {\n",
              "    // Cache the last promise value to make it available to the next\n",
              "    // step of the generator.\n",
              "    outputElement.lastPromiseValue = value;\n",
              "    return next.value.response;\n",
              "  });\n",
              "}\n",
              "\n",
              "/**\n",
              " * Generator function which is called between each async step of the upload\n",
              " * process.\n",
              " * @param {string} inputId Element ID of the input file picker element.\n",
              " * @param {string} outputId Element ID of the output display.\n",
              " * @return {!Iterable<!Object>} Iterable of next steps.\n",
              " */\n",
              "function* uploadFilesStep(inputId, outputId) {\n",
              "  const inputElement = document.getElementById(inputId);\n",
              "  inputElement.disabled = false;\n",
              "\n",
              "  const outputElement = document.getElementById(outputId);\n",
              "  outputElement.innerHTML = '';\n",
              "\n",
              "  const pickedPromise = new Promise((resolve) => {\n",
              "    inputElement.addEventListener('change', (e) => {\n",
              "      resolve(e.target.files);\n",
              "    });\n",
              "  });\n",
              "\n",
              "  const cancel = document.createElement('button');\n",
              "  inputElement.parentElement.appendChild(cancel);\n",
              "  cancel.textContent = 'Cancel upload';\n",
              "  const cancelPromise = new Promise((resolve) => {\n",
              "    cancel.onclick = () => {\n",
              "      resolve(null);\n",
              "    };\n",
              "  });\n",
              "\n",
              "  // Wait for the user to pick the files.\n",
              "  const files = yield {\n",
              "    promise: Promise.race([pickedPromise, cancelPromise]),\n",
              "    response: {\n",
              "      action: 'starting',\n",
              "    }\n",
              "  };\n",
              "\n",
              "  cancel.remove();\n",
              "\n",
              "  // Disable the input element since further picks are not allowed.\n",
              "  inputElement.disabled = true;\n",
              "\n",
              "  if (!files) {\n",
              "    return {\n",
              "      response: {\n",
              "        action: 'complete',\n",
              "      }\n",
              "    };\n",
              "  }\n",
              "\n",
              "  for (const file of files) {\n",
              "    const li = document.createElement('li');\n",
              "    li.append(span(file.name, {fontWeight: 'bold'}));\n",
              "    li.append(span(\n",
              "        `(${file.type || 'n/a'}) - ${file.size} bytes, ` +\n",
              "        `last modified: ${\n",
              "            file.lastModifiedDate ? file.lastModifiedDate.toLocaleDateString() :\n",
              "                                    'n/a'} - `));\n",
              "    const percent = span('0% done');\n",
              "    li.appendChild(percent);\n",
              "\n",
              "    outputElement.appendChild(li);\n",
              "\n",
              "    const fileDataPromise = new Promise((resolve) => {\n",
              "      const reader = new FileReader();\n",
              "      reader.onload = (e) => {\n",
              "        resolve(e.target.result);\n",
              "      };\n",
              "      reader.readAsArrayBuffer(file);\n",
              "    });\n",
              "    // Wait for the data to be ready.\n",
              "    let fileData = yield {\n",
              "      promise: fileDataPromise,\n",
              "      response: {\n",
              "        action: 'continue',\n",
              "      }\n",
              "    };\n",
              "\n",
              "    // Use a chunked sending to avoid message size limits. See b/62115660.\n",
              "    let position = 0;\n",
              "    do {\n",
              "      const length = Math.min(fileData.byteLength - position, MAX_PAYLOAD_SIZE);\n",
              "      const chunk = new Uint8Array(fileData, position, length);\n",
              "      position += length;\n",
              "\n",
              "      const base64 = btoa(String.fromCharCode.apply(null, chunk));\n",
              "      yield {\n",
              "        response: {\n",
              "          action: 'append',\n",
              "          file: file.name,\n",
              "          data: base64,\n",
              "        },\n",
              "      };\n",
              "\n",
              "      let percentDone = fileData.byteLength === 0 ?\n",
              "          100 :\n",
              "          Math.round((position / fileData.byteLength) * 100);\n",
              "      percent.textContent = `${percentDone}% done`;\n",
              "\n",
              "    } while (position < fileData.byteLength);\n",
              "  }\n",
              "\n",
              "  // All done.\n",
              "  yield {\n",
              "    response: {\n",
              "      action: 'complete',\n",
              "    }\n",
              "  };\n",
              "}\n",
              "\n",
              "scope.google = scope.google || {};\n",
              "scope.google.colab = scope.google.colab || {};\n",
              "scope.google.colab._files = {\n",
              "  _uploadFiles,\n",
              "  _uploadFilesContinue,\n",
              "};\n",
              "})(self);\n",
              "</script> "
            ]
          },
          "metadata": {}
        },
        {
          "output_type": "stream",
          "name": "stdout",
          "text": [
            "Saving 995_O.jpg to 995_O.jpg\n",
            "\u001b[1m1/1\u001b[0m \u001b[32m━━━━━━━━━━━━━━━━━━━━\u001b[0m\u001b[37m\u001b[0m \u001b[1m0s\u001b[0m 118ms/step\n",
            "Predicted Letter for 995_O.jpg: O\n"
          ]
        },
        {
          "output_type": "execute_result",
          "data": {
            "text/plain": [
              "<IPython.lib.display.Audio object>"
            ],
            "text/html": [
              "\n",
              "                <audio  controls=\"controls\" >\n",
              "                    <source src=\"data:audio/mpeg;base64,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\" type=\"audio/mpeg\" />\n",
              "                    Your browser does not support the audio element.\n",
              "                </audio>\n",
              "              "
            ]
          },
          "metadata": {},
          "execution_count": 27
        }
      ],
      "source": [
        "import numpy as np\n",
        "import tensorflow as tf\n",
        "import os\n",
        "from tensorflow.keras.preprocessing.image import ImageDataGenerator\n",
        "from PIL import Image  # Fix: Import Image module\n",
        "from gtts import gTTS  # Fix: Import gTTS for text-to-speech\n",
        "import IPython.display as ipd  # Fix: Import for playing audio in Colab\n",
        "from google.colab import files  # Import for file upload\n",
        "\n",
        "# Define Image Size\n",
        "IMG_SIZE = 64\n",
        "\n",
        "# Load Pretrained Model (Ensure 'model' is already loaded)\n",
        "# model = tf.keras.models.load_model('your_model_path.h5')  # Uncomment if needed\n",
        "\n",
        "# Load Dataset to Get Class Indices\n",
        "dataset_path = \"/content/dataset/\"  # Adjust path accordingly\n",
        "train_dir = os.path.join(dataset_path, \"Train\")\n",
        "\n",
        "datagen = ImageDataGenerator(rescale=1.0/255, validation_split=0.2)\n",
        "train_data = datagen.flow_from_directory(\n",
        "    train_dir,\n",
        "    target_size=(IMG_SIZE, IMG_SIZE),\n",
        "    batch_size=32,\n",
        "    class_mode='categorical',\n",
        "    subset='training'\n",
        ")\n",
        "\n",
        "# Function to Predict Multiple Images\n",
        "def predict_sign_language():\n",
        "    uploaded = files.upload()\n",
        "    if not uploaded:\n",
        "        print(\"No files uploaded. Please upload an image.\")\n",
        "        return\n",
        "\n",
        "    predictions = {}\n",
        "\n",
        "    for img_name in uploaded.keys():\n",
        "        try:\n",
        "            img_path = img_name\n",
        "            img = Image.open(img_path).convert(\"RGB\")\n",
        "            img = img.resize((IMG_SIZE, IMG_SIZE))\n",
        "            img_array = np.array(img) / 255.0\n",
        "            img_array = np.expand_dims(img_array, axis=0)\n",
        "\n",
        "            prediction = model.predict(img_array)\n",
        "            class_idx = np.argmax(prediction)\n",
        "            class_label = list(train_data.class_indices.keys())[class_idx]\n",
        "\n",
        "            print(f\"Predicted Letter for {img_name}: {class_label}\")\n",
        "            predictions[img_name] = class_label\n",
        "\n",
        "        except Exception as e:\n",
        "            print(f\"Error processing {img_name}: {str(e)}\")\n",
        "\n",
        "    # Convert all predictions to speech\n",
        "    if predictions:\n",
        "        text_output = \", \".join(predictions.values())\n",
        "        tts = gTTS(text=text_output, lang=\"en\")\n",
        "        tts.save(\"output.mp3\")\n",
        "        return ipd.Audio(\"output.mp3\")\n",
        "    else:\n",
        "        print(\"No valid images processed.\")\n",
        "\n",
        "# Run Prediction\n",
        "predict_sign_language()\n"
      ]
    },
    {
      "cell_type": "code",
      "source": [
        "predict_sign_language()\n"
      ],
      "metadata": {
        "id": "ez7oGb5d0p3Y",
        "colab": {
          "base_uri": "https://localhost:8080/",
          "height": 384
        },
        "outputId": "d866242c-cf9f-4647-8f5e-98d6577d5c2a"
      },
      "execution_count": 40,
      "outputs": [
        {
          "output_type": "display_data",
          "data": {
            "text/plain": [
              "<IPython.core.display.HTML object>"
            ],
            "text/html": [
              "\n",
              "     <input type=\"file\" id=\"files-b8ab26b0-ce36-4127-8ac8-ab913e6171ee\" name=\"files[]\" multiple disabled\n",
              "        style=\"border:none\" />\n",
              "     <output id=\"result-b8ab26b0-ce36-4127-8ac8-ab913e6171ee\">\n",
              "      Upload widget is only available when the cell has been executed in the\n",
              "      current browser session. Please rerun this cell to enable.\n",
              "      </output>\n",
              "      <script>// Copyright 2017 Google LLC\n",
              "//\n",
              "// Licensed under the Apache License, Version 2.0 (the \"License\");\n",
              "// you may not use this file except in compliance with the License.\n",
              "// You may obtain a copy of the License at\n",
              "//\n",
              "//      http://www.apache.org/licenses/LICENSE-2.0\n",
              "//\n",
              "// Unless required by applicable law or agreed to in writing, software\n",
              "// distributed under the License is distributed on an \"AS IS\" BASIS,\n",
              "// WITHOUT WARRANTIES OR CONDITIONS OF ANY KIND, either express or implied.\n",
              "// See the License for the specific language governing permissions and\n",
              "// limitations under the License.\n",
              "\n",
              "/**\n",
              " * @fileoverview Helpers for google.colab Python module.\n",
              " */\n",
              "(function(scope) {\n",
              "function span(text, styleAttributes = {}) {\n",
              "  const element = document.createElement('span');\n",
              "  element.textContent = text;\n",
              "  for (const key of Object.keys(styleAttributes)) {\n",
              "    element.style[key] = styleAttributes[key];\n",
              "  }\n",
              "  return element;\n",
              "}\n",
              "\n",
              "// Max number of bytes which will be uploaded at a time.\n",
              "const MAX_PAYLOAD_SIZE = 100 * 1024;\n",
              "\n",
              "function _uploadFiles(inputId, outputId) {\n",
              "  const steps = uploadFilesStep(inputId, outputId);\n",
              "  const outputElement = document.getElementById(outputId);\n",
              "  // Cache steps on the outputElement to make it available for the next call\n",
              "  // to uploadFilesContinue from Python.\n",
              "  outputElement.steps = steps;\n",
              "\n",
              "  return _uploadFilesContinue(outputId);\n",
              "}\n",
              "\n",
              "// This is roughly an async generator (not supported in the browser yet),\n",
              "// where there are multiple asynchronous steps and the Python side is going\n",
              "// to poll for completion of each step.\n",
              "// This uses a Promise to block the python side on completion of each step,\n",
              "// then passes the result of the previous step as the input to the next step.\n",
              "function _uploadFilesContinue(outputId) {\n",
              "  const outputElement = document.getElementById(outputId);\n",
              "  const steps = outputElement.steps;\n",
              "\n",
              "  const next = steps.next(outputElement.lastPromiseValue);\n",
              "  return Promise.resolve(next.value.promise).then((value) => {\n",
              "    // Cache the last promise value to make it available to the next\n",
              "    // step of the generator.\n",
              "    outputElement.lastPromiseValue = value;\n",
              "    return next.value.response;\n",
              "  });\n",
              "}\n",
              "\n",
              "/**\n",
              " * Generator function which is called between each async step of the upload\n",
              " * process.\n",
              " * @param {string} inputId Element ID of the input file picker element.\n",
              " * @param {string} outputId Element ID of the output display.\n",
              " * @return {!Iterable<!Object>} Iterable of next steps.\n",
              " */\n",
              "function* uploadFilesStep(inputId, outputId) {\n",
              "  const inputElement = document.getElementById(inputId);\n",
              "  inputElement.disabled = false;\n",
              "\n",
              "  const outputElement = document.getElementById(outputId);\n",
              "  outputElement.innerHTML = '';\n",
              "\n",
              "  const pickedPromise = new Promise((resolve) => {\n",
              "    inputElement.addEventListener('change', (e) => {\n",
              "      resolve(e.target.files);\n",
              "    });\n",
              "  });\n",
              "\n",
              "  const cancel = document.createElement('button');\n",
              "  inputElement.parentElement.appendChild(cancel);\n",
              "  cancel.textContent = 'Cancel upload';\n",
              "  const cancelPromise = new Promise((resolve) => {\n",
              "    cancel.onclick = () => {\n",
              "      resolve(null);\n",
              "    };\n",
              "  });\n",
              "\n",
              "  // Wait for the user to pick the files.\n",
              "  const files = yield {\n",
              "    promise: Promise.race([pickedPromise, cancelPromise]),\n",
              "    response: {\n",
              "      action: 'starting',\n",
              "    }\n",
              "  };\n",
              "\n",
              "  cancel.remove();\n",
              "\n",
              "  // Disable the input element since further picks are not allowed.\n",
              "  inputElement.disabled = true;\n",
              "\n",
              "  if (!files) {\n",
              "    return {\n",
              "      response: {\n",
              "        action: 'complete',\n",
              "      }\n",
              "    };\n",
              "  }\n",
              "\n",
              "  for (const file of files) {\n",
              "    const li = document.createElement('li');\n",
              "    li.append(span(file.name, {fontWeight: 'bold'}));\n",
              "    li.append(span(\n",
              "        `(${file.type || 'n/a'}) - ${file.size} bytes, ` +\n",
              "        `last modified: ${\n",
              "            file.lastModifiedDate ? file.lastModifiedDate.toLocaleDateString() :\n",
              "                                    'n/a'} - `));\n",
              "    const percent = span('0% done');\n",
              "    li.appendChild(percent);\n",
              "\n",
              "    outputElement.appendChild(li);\n",
              "\n",
              "    const fileDataPromise = new Promise((resolve) => {\n",
              "      const reader = new FileReader();\n",
              "      reader.onload = (e) => {\n",
              "        resolve(e.target.result);\n",
              "      };\n",
              "      reader.readAsArrayBuffer(file);\n",
              "    });\n",
              "    // Wait for the data to be ready.\n",
              "    let fileData = yield {\n",
              "      promise: fileDataPromise,\n",
              "      response: {\n",
              "        action: 'continue',\n",
              "      }\n",
              "    };\n",
              "\n",
              "    // Use a chunked sending to avoid message size limits. See b/62115660.\n",
              "    let position = 0;\n",
              "    do {\n",
              "      const length = Math.min(fileData.byteLength - position, MAX_PAYLOAD_SIZE);\n",
              "      const chunk = new Uint8Array(fileData, position, length);\n",
              "      position += length;\n",
              "\n",
              "      const base64 = btoa(String.fromCharCode.apply(null, chunk));\n",
              "      yield {\n",
              "        response: {\n",
              "          action: 'append',\n",
              "          file: file.name,\n",
              "          data: base64,\n",
              "        },\n",
              "      };\n",
              "\n",
              "      let percentDone = fileData.byteLength === 0 ?\n",
              "          100 :\n",
              "          Math.round((position / fileData.byteLength) * 100);\n",
              "      percent.textContent = `${percentDone}% done`;\n",
              "\n",
              "    } while (position < fileData.byteLength);\n",
              "  }\n",
              "\n",
              "  // All done.\n",
              "  yield {\n",
              "    response: {\n",
              "      action: 'complete',\n",
              "    }\n",
              "  };\n",
              "}\n",
              "\n",
              "scope.google = scope.google || {};\n",
              "scope.google.colab = scope.google.colab || {};\n",
              "scope.google.colab._files = {\n",
              "  _uploadFiles,\n",
              "  _uploadFilesContinue,\n",
              "};\n",
              "})(self);\n",
              "</script> "
            ]
          },
          "metadata": {}
        },
        {
          "output_type": "stream",
          "name": "stdout",
          "text": [
            "Saving 98_E.jpg to 98_E.jpg\n",
            "Saving 940_H - Copy.jpg to 940_H - Copy.jpg\n",
            "Saving 940_H.jpg to 940_H.jpg\n",
            "Saving 960_L - Copy.jpg to 960_L - Copy.jpg\n",
            "\u001b[1m1/1\u001b[0m \u001b[32m━━━━━━━━━━━━━━━━━━━━\u001b[0m\u001b[37m\u001b[0m \u001b[1m0s\u001b[0m 44ms/step\n",
            "Predicted Letter for 98_E.jpg: E\n",
            "\u001b[1m1/1\u001b[0m \u001b[32m━━━━━━━━━━━━━━━━━━━━\u001b[0m\u001b[37m\u001b[0m \u001b[1m0s\u001b[0m 42ms/step\n",
            "Predicted Letter for 940_H - Copy.jpg: H\n",
            "\u001b[1m1/1\u001b[0m \u001b[32m━━━━━━━━━━━━━━━━━━━━\u001b[0m\u001b[37m\u001b[0m \u001b[1m0s\u001b[0m 41ms/step\n",
            "Predicted Letter for 940_H.jpg: H\n",
            "\u001b[1m1/1\u001b[0m \u001b[32m━━━━━━━━━━━━━━━━━━━━\u001b[0m\u001b[37m\u001b[0m \u001b[1m0s\u001b[0m 43ms/step\n",
            "Predicted Letter for 960_L - Copy.jpg: L\n"
          ]
        },
        {
          "output_type": "execute_result",
          "data": {
            "text/plain": [
              "<IPython.lib.display.Audio object>"
            ],
            "text/html": [
              "\n",
              "                <audio  controls=\"controls\" >\n",
              "                    <source src=\"data:audio/mpeg;base64,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\" type=\"audio/mpeg\" />\n",
              "                    Your browser does not support the audio element.\n",
              "                </audio>\n",
              "              "
            ]
          },
          "metadata": {},
          "execution_count": 40
        }
      ]
    },
    {
      "cell_type": "code",
      "source": [
        "!pip install streamlit\n"
      ],
      "metadata": {
        "id": "0_hIYhfN0tRq",
        "colab": {
          "base_uri": "https://localhost:8080/"
        },
        "outputId": "71095157-d24c-448c-89b6-e666fdd07e40"
      },
      "execution_count": 29,
      "outputs": [
        {
          "output_type": "stream",
          "name": "stdout",
          "text": [
            "Collecting streamlit\n",
            "  Downloading streamlit-1.44.1-py3-none-any.whl.metadata (8.9 kB)\n",
            "Requirement already satisfied: altair<6,>=4.0 in /usr/local/lib/python3.11/dist-packages (from streamlit) (5.5.0)\n",
            "Requirement already satisfied: blinker<2,>=1.0.0 in /usr/local/lib/python3.11/dist-packages (from streamlit) (1.9.0)\n",
            "Requirement already satisfied: cachetools<6,>=4.0 in /usr/local/lib/python3.11/dist-packages (from streamlit) (5.5.2)\n",
            "Requirement already satisfied: click<9,>=7.0 in /usr/local/lib/python3.11/dist-packages (from streamlit) (8.1.8)\n",
            "Requirement already satisfied: numpy<3,>=1.23 in /usr/local/lib/python3.11/dist-packages (from streamlit) (2.0.2)\n",
            "Requirement already satisfied: packaging<25,>=20 in /usr/local/lib/python3.11/dist-packages (from streamlit) (24.2)\n",
            "Requirement already satisfied: pandas<3,>=1.4.0 in /usr/local/lib/python3.11/dist-packages (from streamlit) (2.2.2)\n",
            "Requirement already satisfied: pillow<12,>=7.1.0 in /usr/local/lib/python3.11/dist-packages (from streamlit) (11.1.0)\n",
            "Requirement already satisfied: protobuf<6,>=3.20 in /usr/local/lib/python3.11/dist-packages (from streamlit) (5.29.4)\n",
            "Requirement already satisfied: pyarrow>=7.0 in /usr/local/lib/python3.11/dist-packages (from streamlit) (18.1.0)\n",
            "Requirement already satisfied: requests<3,>=2.27 in /usr/local/lib/python3.11/dist-packages (from streamlit) (2.32.3)\n",
            "Requirement already satisfied: tenacity<10,>=8.1.0 in /usr/local/lib/python3.11/dist-packages (from streamlit) (9.1.2)\n",
            "Requirement already satisfied: toml<2,>=0.10.1 in /usr/local/lib/python3.11/dist-packages (from streamlit) (0.10.2)\n",
            "Requirement already satisfied: typing-extensions<5,>=4.4.0 in /usr/local/lib/python3.11/dist-packages (from streamlit) (4.13.1)\n",
            "Collecting watchdog<7,>=2.1.5 (from streamlit)\n",
            "  Downloading watchdog-6.0.0-py3-none-manylinux2014_x86_64.whl.metadata (44 kB)\n",
            "\u001b[2K     \u001b[90m━━━━━━━━━━━━━━━━━━━━━━━━━━━━━━━━━━━━━━━━\u001b[0m \u001b[32m44.3/44.3 kB\u001b[0m \u001b[31m1.7 MB/s\u001b[0m eta \u001b[36m0:00:00\u001b[0m\n",
            "\u001b[?25hRequirement already satisfied: gitpython!=3.1.19,<4,>=3.0.7 in /usr/local/lib/python3.11/dist-packages (from streamlit) (3.1.44)\n",
            "Collecting pydeck<1,>=0.8.0b4 (from streamlit)\n",
            "  Downloading pydeck-0.9.1-py2.py3-none-any.whl.metadata (4.1 kB)\n",
            "Requirement already satisfied: tornado<7,>=6.0.3 in /usr/local/lib/python3.11/dist-packages (from streamlit) (6.4.2)\n",
            "Requirement already satisfied: jinja2 in /usr/local/lib/python3.11/dist-packages (from altair<6,>=4.0->streamlit) (3.1.6)\n",
            "Requirement already satisfied: jsonschema>=3.0 in /usr/local/lib/python3.11/dist-packages (from altair<6,>=4.0->streamlit) (4.23.0)\n",
            "Requirement already satisfied: narwhals>=1.14.2 in /usr/local/lib/python3.11/dist-packages (from altair<6,>=4.0->streamlit) (1.34.1)\n",
            "Requirement already satisfied: gitdb<5,>=4.0.1 in /usr/local/lib/python3.11/dist-packages (from gitpython!=3.1.19,<4,>=3.0.7->streamlit) (4.0.12)\n",
            "Requirement already satisfied: python-dateutil>=2.8.2 in /usr/local/lib/python3.11/dist-packages (from pandas<3,>=1.4.0->streamlit) (2.8.2)\n",
            "Requirement already satisfied: pytz>=2020.1 in /usr/local/lib/python3.11/dist-packages (from pandas<3,>=1.4.0->streamlit) (2025.2)\n",
            "Requirement already satisfied: tzdata>=2022.7 in /usr/local/lib/python3.11/dist-packages (from pandas<3,>=1.4.0->streamlit) (2025.2)\n",
            "Requirement already satisfied: charset-normalizer<4,>=2 in /usr/local/lib/python3.11/dist-packages (from requests<3,>=2.27->streamlit) (3.4.1)\n",
            "Requirement already satisfied: idna<4,>=2.5 in /usr/local/lib/python3.11/dist-packages (from requests<3,>=2.27->streamlit) (3.10)\n",
            "Requirement already satisfied: urllib3<3,>=1.21.1 in /usr/local/lib/python3.11/dist-packages (from requests<3,>=2.27->streamlit) (2.3.0)\n",
            "Requirement already satisfied: certifi>=2017.4.17 in /usr/local/lib/python3.11/dist-packages (from requests<3,>=2.27->streamlit) (2025.1.31)\n",
            "Requirement already satisfied: smmap<6,>=3.0.1 in /usr/local/lib/python3.11/dist-packages (from gitdb<5,>=4.0.1->gitpython!=3.1.19,<4,>=3.0.7->streamlit) (5.0.2)\n",
            "Requirement already satisfied: MarkupSafe>=2.0 in /usr/local/lib/python3.11/dist-packages (from jinja2->altair<6,>=4.0->streamlit) (3.0.2)\n",
            "Requirement already satisfied: attrs>=22.2.0 in /usr/local/lib/python3.11/dist-packages (from jsonschema>=3.0->altair<6,>=4.0->streamlit) (25.3.0)\n",
            "Requirement already satisfied: jsonschema-specifications>=2023.03.6 in /usr/local/lib/python3.11/dist-packages (from jsonschema>=3.0->altair<6,>=4.0->streamlit) (2024.10.1)\n",
            "Requirement already satisfied: referencing>=0.28.4 in /usr/local/lib/python3.11/dist-packages (from jsonschema>=3.0->altair<6,>=4.0->streamlit) (0.36.2)\n",
            "Requirement already satisfied: rpds-py>=0.7.1 in /usr/local/lib/python3.11/dist-packages (from jsonschema>=3.0->altair<6,>=4.0->streamlit) (0.24.0)\n",
            "Requirement already satisfied: six>=1.5 in /usr/local/lib/python3.11/dist-packages (from python-dateutil>=2.8.2->pandas<3,>=1.4.0->streamlit) (1.17.0)\n",
            "Downloading streamlit-1.44.1-py3-none-any.whl (9.8 MB)\n",
            "\u001b[2K   \u001b[90m━━━━━━━━━━━━━━━━━━━━━━━━━━━━━━━━━━━━━━━━\u001b[0m \u001b[32m9.8/9.8 MB\u001b[0m \u001b[31m58.2 MB/s\u001b[0m eta \u001b[36m0:00:00\u001b[0m\n",
            "\u001b[?25hDownloading pydeck-0.9.1-py2.py3-none-any.whl (6.9 MB)\n",
            "\u001b[2K   \u001b[90m━━━━━━━━━━━━━━━━━━━━━━━━━━━━━━━━━━━━━━━━\u001b[0m \u001b[32m6.9/6.9 MB\u001b[0m \u001b[31m92.6 MB/s\u001b[0m eta \u001b[36m0:00:00\u001b[0m\n",
            "\u001b[?25hDownloading watchdog-6.0.0-py3-none-manylinux2014_x86_64.whl (79 kB)\n",
            "\u001b[2K   \u001b[90m━━━━━━━━━━━━━━━━━━━━━━━━━━━━━━━━━━━━━━━━\u001b[0m \u001b[32m79.1/79.1 kB\u001b[0m \u001b[31m5.7 MB/s\u001b[0m eta \u001b[36m0:00:00\u001b[0m\n",
            "\u001b[?25hInstalling collected packages: watchdog, pydeck, streamlit\n",
            "Successfully installed pydeck-0.9.1 streamlit-1.44.1 watchdog-6.0.0\n"
          ]
        }
      ]
    },
    {
      "cell_type": "code",
      "source": [
        "!pip install streamlit pyngrok --quiet\n"
      ],
      "metadata": {
        "id": "O8ji0prE0xci"
      },
      "execution_count": 30,
      "outputs": []
    },
    {
      "cell_type": "code",
      "source": [
        "pip install pyttsx3"
      ],
      "metadata": {
        "id": "K6KdkJbF00Fk",
        "colab": {
          "base_uri": "https://localhost:8080/"
        },
        "outputId": "edd5d17d-9bb5-40f0-ad00-936a4e2ee638"
      },
      "execution_count": 31,
      "outputs": [
        {
          "output_type": "stream",
          "name": "stdout",
          "text": [
            "Collecting pyttsx3\n",
            "  Downloading pyttsx3-2.98-py3-none-any.whl.metadata (3.8 kB)\n",
            "Downloading pyttsx3-2.98-py3-none-any.whl (34 kB)\n",
            "Installing collected packages: pyttsx3\n",
            "Successfully installed pyttsx3-2.98\n"
          ]
        }
      ]
    },
    {
      "cell_type": "code",
      "source": [
        "%%writefile app.py\n",
        "import streamlit as st\n",
        "import tensorflow as tf\n",
        "import numpy as np\n",
        "from PIL import Image\n",
        "import os\n",
        "import base64\n",
        "from gtts import gTTS\n",
        "from io import BytesIO\n",
        "import tempfile\n",
        "\n",
        "MODEL_PATH = \"sign_language_model.keras\"\n",
        "if not os.path.exists(MODEL_PATH):\n",
        "    st.error(f\"Model file `{MODEL_PATH}` not found! Please upload the model.\")\n",
        "else:\n",
        "    model = tf.keras.models.load_model(MODEL_PATH)\n",
        "\n",
        "CLASS_LABELS = list(\"ABCDEFGHIKLMNOPQRSTUVWXY\")\n",
        "\n",
        "st.set_page_config(page_title=\"🤟 Sign Language Recognition\", layout=\"wide\")\n",
        "\n",
        "# Background image\n",
        "background_image = \"signbg.jpg\"\n",
        "if os.path.exists(background_image):\n",
        "    with open(background_image, \"rb\") as f:\n",
        "        bg_encoded = base64.b64encode(f.read()).decode()\n",
        "    st.markdown(\n",
        "        f\"\"\"\n",
        "        <style>\n",
        "        .stApp {{\n",
        "            background-image: url(\"data:image/jpg;base64,{bg_encoded}\");\n",
        "            background-size: cover;\n",
        "            background-position: center;\n",
        "        }}\n",
        "        </style>\n",
        "        \"\"\",\n",
        "        unsafe_allow_html=True\n",
        "    )\n",
        "else:\n",
        "    st.warning(\"⚠️ Background image 'signbg.jpg' not found.\")\n",
        "\n",
        "st.title(\"🤟 Sign Language Recognition\")\n",
        "\n",
        "uploaded_files = st.file_uploader(\"Upload Hand Gesture Images\", type=[\"jpg\", \"jpeg\", \"png\"], accept_multiple_files=True)\n",
        "\n",
        "def predict_sign(image):\n",
        "    img = image.resize((64, 64))\n",
        "    img_array = np.array(img) / 255.0\n",
        "    img_array = np.expand_dims(img_array, axis=0)\n",
        "    prediction = model.predict(img_array)\n",
        "    predicted_class = CLASS_LABELS[np.argmax(prediction)]\n",
        "    return predicted_class\n",
        "\n",
        "# Speak using gTTS\n",
        "def speak(text):\n",
        "    tts = gTTS(text=text, lang='en')\n",
        "    with tempfile.NamedTemporaryFile(delete=False, suffix=\".mp3\") as fp:\n",
        "        tts.save(fp.name)\n",
        "        st.audio(fp.name, format='audio/mp3')\n",
        "\n",
        "# Predictions\n",
        "if uploaded_files:\n",
        "    st.subheader(\"📸 Predictions:\")\n",
        "    for uploaded_file in uploaded_files:\n",
        "        image = Image.open(uploaded_file).convert(\"RGB\")\n",
        "        label = predict_sign(image)\n",
        "        st.image(image, caption=f\"Prediction: {label}\", use_container_width=True)\n",
        "        st.success(f\"✅ Predicted Sign: **{label}**\")\n",
        "        speak(f\"The predicted sign is {label}\")\n",
        "\n",
        "\n",
        "\n"
      ],
      "metadata": {
        "id": "khZznjTH02oP",
        "colab": {
          "base_uri": "https://localhost:8080/"
        },
        "outputId": "3330d082-e6e6-4076-e5b9-ce6f6df53d3b"
      },
      "execution_count": 43,
      "outputs": [
        {
          "output_type": "stream",
          "name": "stdout",
          "text": [
            "Overwriting app.py\n"
          ]
        }
      ]
    },
    {
      "cell_type": "code",
      "source": [
        "!streamlit run app.py &>/content/log.txt &\n",
        "\n"
      ],
      "metadata": {
        "id": "ZgEVRBBt07dM"
      },
      "execution_count": 44,
      "outputs": []
    },
    {
      "cell_type": "code",
      "source": [
        "!pkill -f ngrok\n"
      ],
      "metadata": {
        "id": "NxQzes1E0943"
      },
      "execution_count": 45,
      "outputs": []
    },
    {
      "cell_type": "code",
      "source": [
        "!streamlit run app.py &>/content/log.txt &\n"
      ],
      "metadata": {
        "id": "yTeD0re_1CUs"
      },
      "execution_count": 38,
      "outputs": []
    },
    {
      "cell_type": "code",
      "source": [
        "!ngrok config add-authtoken 2uTvgEzz6DWGNMbfVMgoWetZPz0_7uwMsVByuiXK3D9nEK1uQ\n"
      ],
      "metadata": {
        "colab": {
          "base_uri": "https://localhost:8080/"
        },
        "id": "xPcHoyI-ZCzE",
        "outputId": "5a188190-06a2-46db-9360-14147181b33e"
      },
      "execution_count": 46,
      "outputs": [
        {
          "output_type": "stream",
          "name": "stdout",
          "text": [
            "Authtoken saved to configuration file: /root/.config/ngrok/ngrok.yml\n"
          ]
        }
      ]
    },
    {
      "cell_type": "code",
      "source": [
        "from pyngrok import ngrok\n",
        "\n",
        "# Kill any existing tunnel (extra safety)\n",
        "ngrok.kill()\n",
        "\n",
        "# Start new tunnel\n",
        "public_url = ngrok.connect(\"http://localhost:8501\")\n",
        "print(\"🔗 Public URL:\", public_url)\n"
      ],
      "metadata": {
        "id": "dDzrafOu1C5L",
        "colab": {
          "base_uri": "https://localhost:8080/"
        },
        "outputId": "63c7e3c6-db9a-4b87-8025-df5b96f2f729"
      },
      "execution_count": 47,
      "outputs": [
        {
          "output_type": "stream",
          "name": "stdout",
          "text": [
            "🔗 Public URL: NgrokTunnel: \"https://e3e1-34-139-201-182.ngrok-free.app\" -> \"http://localhost:8501\"\n"
          ]
        }
      ]
    }
  ],
  "metadata": {
    "colab": {
      "provenance": [],
      "include_colab_link": true
    },
    "kernelspec": {
      "display_name": "Python 3",
      "name": "python3"
    }
  },
  "nbformat": 4,
  "nbformat_minor": 0
}